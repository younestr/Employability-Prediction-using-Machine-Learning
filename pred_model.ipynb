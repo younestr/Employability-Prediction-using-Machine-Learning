{
 "cells": [
  {
   "cell_type": "code",
   "execution_count": 108,
   "metadata": {},
   "outputs": [],
   "source": [
    "import pandas as pd\n",
    "import numpy as np\n",
    "import glob\n",
    "import matplotlib.pyplot as plt\n",
    "import seaborn as sns\n",
    "from sklearn.model_selection import train_test_split, GridSearchCV, StratifiedKFold\n",
    "from sklearn.neighbors import KNeighborsClassifier\n",
    "from sklearn.tree import DecisionTreeClassifier\n",
    "from sklearn.metrics import confusion_matrix, accuracy_score, classification_report"
   ]
  },
  {
   "cell_type": "code",
   "execution_count": 109,
   "metadata": {},
   "outputs": [
    {
     "data": {
      "text/html": [
       "<div>\n",
       "<style scoped>\n",
       "    .dataframe tbody tr th:only-of-type {\n",
       "        vertical-align: middle;\n",
       "    }\n",
       "\n",
       "    .dataframe tbody tr th {\n",
       "        vertical-align: top;\n",
       "    }\n",
       "\n",
       "    .dataframe thead th {\n",
       "        text-align: right;\n",
       "    }\n",
       "</style>\n",
       "<table border=\"1\" class=\"dataframe\">\n",
       "  <thead>\n",
       "    <tr style=\"text-align: right;\">\n",
       "      <th></th>\n",
       "      <th>Job Title</th>\n",
       "      <th>Company Name</th>\n",
       "      <th>Location</th>\n",
       "      <th>Skills</th>\n",
       "      <th>Years of Experience</th>\n",
       "      <th>Education</th>\n",
       "      <th>Job Type</th>\n",
       "      <th>Salary</th>\n",
       "    </tr>\n",
       "  </thead>\n",
       "  <tbody>\n",
       "    <tr>\n",
       "      <th>0</th>\n",
       "      <td>Data Scientist</td>\n",
       "      <td>DTN</td>\n",
       "      <td>Remote</td>\n",
       "      <td>Machine Learning, Pandas, Analytics, Software ...</td>\n",
       "      <td>2</td>\n",
       "      <td>Not Specified</td>\n",
       "      <td>Full-time</td>\n",
       "      <td>94;500 - 115;500 a year</td>\n",
       "    </tr>\n",
       "    <tr>\n",
       "      <th>1</th>\n",
       "      <td>Data Scientist</td>\n",
       "      <td>Generac Power Systems</td>\n",
       "      <td>Pewaukee; WI 53188</td>\n",
       "      <td>Power BI, Data Visualization, Computer Science...</td>\n",
       "      <td>3</td>\n",
       "      <td>Master; Bachelor</td>\n",
       "      <td>Full-time</td>\n",
       "      <td>Not specified</td>\n",
       "    </tr>\n",
       "    <tr>\n",
       "      <th>2</th>\n",
       "      <td>Data Scientist</td>\n",
       "      <td>Big Lots</td>\n",
       "      <td>Columbus; OH 43081  (Albany Commons area)</td>\n",
       "      <td>Data Mining, Computer Science, Data Structures...</td>\n",
       "      <td>Not specified</td>\n",
       "      <td>Master; Bachelor</td>\n",
       "      <td>Full-time</td>\n",
       "      <td>Not specified</td>\n",
       "    </tr>\n",
       "    <tr>\n",
       "      <th>3</th>\n",
       "      <td>Data Scientist (Data Scientist 1)</td>\n",
       "      <td>HII</td>\n",
       "      <td>Remote in Alexandria; VA</td>\n",
       "      <td>Data Mining, Machine Learning, Project Managem...</td>\n",
       "      <td>4</td>\n",
       "      <td>Bachelor</td>\n",
       "      <td>Full-time</td>\n",
       "      <td>Not specified</td>\n",
       "    </tr>\n",
       "    <tr>\n",
       "      <th>4</th>\n",
       "      <td>Data Scientist</td>\n",
       "      <td>Microsoft</td>\n",
       "      <td>Atlanta; GA</td>\n",
       "      <td>Data Mining, Forecasting, Computer Science, AP...</td>\n",
       "      <td>2</td>\n",
       "      <td>Doctorate; Master; Bachelor</td>\n",
       "      <td>Full-time</td>\n",
       "      <td>98;300 - 193;200 a year</td>\n",
       "    </tr>\n",
       "    <tr>\n",
       "      <th>...</th>\n",
       "      <td>...</td>\n",
       "      <td>...</td>\n",
       "      <td>...</td>\n",
       "      <td>...</td>\n",
       "      <td>...</td>\n",
       "      <td>...</td>\n",
       "      <td>...</td>\n",
       "      <td>...</td>\n",
       "    </tr>\n",
       "    <tr>\n",
       "      <th>729</th>\n",
       "      <td>Senior Underwriting Data Analyst</td>\n",
       "      <td>Church Mutual Insurance; S.I.</td>\n",
       "      <td>Hybrid work in Merrill; WI 54452</td>\n",
       "      <td>Excel, SAS, Tableau, Research, Leadership</td>\n",
       "      <td>Not specified</td>\n",
       "      <td>Bachelor</td>\n",
       "      <td>Full-time</td>\n",
       "      <td>103;500 a year</td>\n",
       "    </tr>\n",
       "    <tr>\n",
       "      <th>730</th>\n",
       "      <td>Data Scientist</td>\n",
       "      <td>Orion</td>\n",
       "      <td>Hybrid work in West Sacramento; CA</td>\n",
       "      <td>AI, Deep Learning, Data Visualization, Data An...</td>\n",
       "      <td>Not specified</td>\n",
       "      <td>Doctorate; Master</td>\n",
       "      <td>Not specified</td>\n",
       "      <td>Not specified</td>\n",
       "    </tr>\n",
       "    <tr>\n",
       "      <th>731</th>\n",
       "      <td>Deep Learning Architect; Generative AI Innovat...</td>\n",
       "      <td>Amazon Web Services; Inc.</td>\n",
       "      <td>Santa Clara; CA 94085</td>\n",
       "      <td>AI, Sales, Deep Learning, R, AWS, Java, Cloud ...</td>\n",
       "      <td>Not specified</td>\n",
       "      <td>Bachelor; Doctorate; Master</td>\n",
       "      <td>Full-time</td>\n",
       "      <td>105;100 a year</td>\n",
       "    </tr>\n",
       "    <tr>\n",
       "      <th>732</th>\n",
       "      <td>Health Data Researcher; Data &amp; Insights</td>\n",
       "      <td>WALGREENS</td>\n",
       "      <td>Deerfield; IL 60015</td>\n",
       "      <td>NaN</td>\n",
       "      <td>Not specified</td>\n",
       "      <td>Not Specified</td>\n",
       "      <td>Not specified</td>\n",
       "      <td>Not specified</td>\n",
       "    </tr>\n",
       "    <tr>\n",
       "      <th>733</th>\n",
       "      <td>Data Scientist</td>\n",
       "      <td>Microsoft</td>\n",
       "      <td>Atlanta; GA</td>\n",
       "      <td>Machine Learning, Cloud Computing, Computer Sc...</td>\n",
       "      <td>2</td>\n",
       "      <td>Doctorate; Master; Bachelor</td>\n",
       "      <td>Full-time</td>\n",
       "      <td>98;300 - 193;200 a year</td>\n",
       "    </tr>\n",
       "  </tbody>\n",
       "</table>\n",
       "<p>734 rows × 8 columns</p>\n",
       "</div>"
      ],
      "text/plain": [
       "                                             Job Title  \\\n",
       "0                                       Data Scientist   \n",
       "1                                       Data Scientist   \n",
       "2                                       Data Scientist   \n",
       "3                    Data Scientist (Data Scientist 1)   \n",
       "4                                       Data Scientist   \n",
       "..                                                 ...   \n",
       "729                   Senior Underwriting Data Analyst   \n",
       "730                                     Data Scientist   \n",
       "731  Deep Learning Architect; Generative AI Innovat...   \n",
       "732            Health Data Researcher; Data & Insights   \n",
       "733                                     Data Scientist   \n",
       "\n",
       "                      Company Name                                   Location  \\\n",
       "0                              DTN                                     Remote   \n",
       "1            Generac Power Systems                         Pewaukee; WI 53188   \n",
       "2                         Big Lots  Columbus; OH 43081  (Albany Commons area)   \n",
       "3                              HII                   Remote in Alexandria; VA   \n",
       "4                        Microsoft                                Atlanta; GA   \n",
       "..                             ...                                        ...   \n",
       "729  Church Mutual Insurance; S.I.           Hybrid work in Merrill; WI 54452   \n",
       "730                          Orion         Hybrid work in West Sacramento; CA   \n",
       "731      Amazon Web Services; Inc.                      Santa Clara; CA 94085   \n",
       "732                      WALGREENS                        Deerfield; IL 60015   \n",
       "733                      Microsoft                                Atlanta; GA   \n",
       "\n",
       "                                                Skills Years of Experience  \\\n",
       "0    Machine Learning, Pandas, Analytics, Software ...                   2   \n",
       "1    Power BI, Data Visualization, Computer Science...                   3   \n",
       "2    Data Mining, Computer Science, Data Structures...       Not specified   \n",
       "3    Data Mining, Machine Learning, Project Managem...                   4   \n",
       "4    Data Mining, Forecasting, Computer Science, AP...                   2   \n",
       "..                                                 ...                 ...   \n",
       "729          Excel, SAS, Tableau, Research, Leadership       Not specified   \n",
       "730  AI, Deep Learning, Data Visualization, Data An...       Not specified   \n",
       "731  AI, Sales, Deep Learning, R, AWS, Java, Cloud ...       Not specified   \n",
       "732                                                NaN       Not specified   \n",
       "733  Machine Learning, Cloud Computing, Computer Sc...                   2   \n",
       "\n",
       "                       Education       Job Type                   Salary  \n",
       "0                  Not Specified      Full-time  94;500 - 115;500 a year  \n",
       "1               Master; Bachelor      Full-time            Not specified  \n",
       "2               Master; Bachelor      Full-time            Not specified  \n",
       "3                       Bachelor      Full-time            Not specified  \n",
       "4    Doctorate; Master; Bachelor      Full-time  98;300 - 193;200 a year  \n",
       "..                           ...            ...                      ...  \n",
       "729                     Bachelor      Full-time           103;500 a year  \n",
       "730            Doctorate; Master  Not specified            Not specified  \n",
       "731  Bachelor; Doctorate; Master      Full-time           105;100 a year  \n",
       "732                Not Specified  Not specified            Not specified  \n",
       "733  Doctorate; Master; Bachelor      Full-time  98;300 - 193;200 a year  \n",
       "\n",
       "[734 rows x 8 columns]"
      ]
     },
     "execution_count": 109,
     "metadata": {},
     "output_type": "execute_result"
    }
   ],
   "source": [
    "# Define the path to your CSV files (use raw string to avoid issues with backslashes)\n",
    "path = r'C:\\Users\\xelor\\Downloads\\MGMT Project\\scrapped_data\\*.csv'\n",
    "\n",
    "# Read all CSV files into a list of dataframes\n",
    "csv_files = glob.glob(path)\n",
    "df_list = [pd.read_csv(file) for file in csv_files]\n",
    "\n",
    "# Concatenate all dataframes into a single dataframe\n",
    "data = pd.concat(df_list, ignore_index=True)\n",
    "\n",
    "# Display the first few rows of the merged dataframe\n",
    "data"
   ]
  },
  {
   "cell_type": "code",
   "execution_count": 110,
   "metadata": {},
   "outputs": [
    {
     "data": {
      "text/html": [
       "<div>\n",
       "<style scoped>\n",
       "    .dataframe tbody tr th:only-of-type {\n",
       "        vertical-align: middle;\n",
       "    }\n",
       "\n",
       "    .dataframe tbody tr th {\n",
       "        vertical-align: top;\n",
       "    }\n",
       "\n",
       "    .dataframe thead th {\n",
       "        text-align: right;\n",
       "    }\n",
       "</style>\n",
       "<table border=\"1\" class=\"dataframe\">\n",
       "  <thead>\n",
       "    <tr style=\"text-align: right;\">\n",
       "      <th></th>\n",
       "      <th>Job Title</th>\n",
       "      <th>Company Name</th>\n",
       "      <th>Location</th>\n",
       "      <th>Skills</th>\n",
       "      <th>Years of Experience</th>\n",
       "      <th>Education</th>\n",
       "      <th>Job Type</th>\n",
       "      <th>Salary</th>\n",
       "    </tr>\n",
       "  </thead>\n",
       "  <tbody>\n",
       "    <tr>\n",
       "      <th>0</th>\n",
       "      <td>Data Scientist</td>\n",
       "      <td>DTN</td>\n",
       "      <td>Remote</td>\n",
       "      <td>Machine Learning, Pandas, Analytics, Software ...</td>\n",
       "      <td>2</td>\n",
       "      <td>Not Specified</td>\n",
       "      <td>Full-time</td>\n",
       "      <td>94;500 - 115;500 a year</td>\n",
       "    </tr>\n",
       "    <tr>\n",
       "      <th>1</th>\n",
       "      <td>Data Scientist</td>\n",
       "      <td>Generac Power Systems</td>\n",
       "      <td>Pewaukee; WI 53188</td>\n",
       "      <td>Power BI, Data Visualization, Computer Science...</td>\n",
       "      <td>3</td>\n",
       "      <td>Master; Bachelor</td>\n",
       "      <td>Full-time</td>\n",
       "      <td>Not specified</td>\n",
       "    </tr>\n",
       "    <tr>\n",
       "      <th>2</th>\n",
       "      <td>Data Scientist</td>\n",
       "      <td>Big Lots</td>\n",
       "      <td>Columbus; OH 43081  (Albany Commons area)</td>\n",
       "      <td>Data Mining, Computer Science, Data Structures...</td>\n",
       "      <td>Not specified</td>\n",
       "      <td>Master; Bachelor</td>\n",
       "      <td>Full-time</td>\n",
       "      <td>Not specified</td>\n",
       "    </tr>\n",
       "    <tr>\n",
       "      <th>3</th>\n",
       "      <td>Data Scientist (Data Scientist 1)</td>\n",
       "      <td>HII</td>\n",
       "      <td>Remote in Alexandria; VA</td>\n",
       "      <td>Data Mining, Machine Learning, Project Managem...</td>\n",
       "      <td>4</td>\n",
       "      <td>Bachelor</td>\n",
       "      <td>Full-time</td>\n",
       "      <td>Not specified</td>\n",
       "    </tr>\n",
       "    <tr>\n",
       "      <th>4</th>\n",
       "      <td>Data Scientist</td>\n",
       "      <td>Microsoft</td>\n",
       "      <td>Atlanta; GA</td>\n",
       "      <td>Data Mining, Forecasting, Computer Science, AP...</td>\n",
       "      <td>2</td>\n",
       "      <td>Doctorate; Master; Bachelor</td>\n",
       "      <td>Full-time</td>\n",
       "      <td>98;300 - 193;200 a year</td>\n",
       "    </tr>\n",
       "  </tbody>\n",
       "</table>\n",
       "</div>"
      ],
      "text/plain": [
       "                           Job Title           Company Name  \\\n",
       "0                     Data Scientist                    DTN   \n",
       "1                     Data Scientist  Generac Power Systems   \n",
       "2                     Data Scientist               Big Lots   \n",
       "3  Data Scientist (Data Scientist 1)                    HII   \n",
       "4                     Data Scientist              Microsoft   \n",
       "\n",
       "                                    Location  \\\n",
       "0                                     Remote   \n",
       "1                         Pewaukee; WI 53188   \n",
       "2  Columbus; OH 43081  (Albany Commons area)   \n",
       "3                   Remote in Alexandria; VA   \n",
       "4                                Atlanta; GA   \n",
       "\n",
       "                                              Skills Years of Experience  \\\n",
       "0  Machine Learning, Pandas, Analytics, Software ...                   2   \n",
       "1  Power BI, Data Visualization, Computer Science...                   3   \n",
       "2  Data Mining, Computer Science, Data Structures...       Not specified   \n",
       "3  Data Mining, Machine Learning, Project Managem...                   4   \n",
       "4  Data Mining, Forecasting, Computer Science, AP...                   2   \n",
       "\n",
       "                     Education   Job Type                   Salary  \n",
       "0                Not Specified  Full-time  94;500 - 115;500 a year  \n",
       "1             Master; Bachelor  Full-time            Not specified  \n",
       "2             Master; Bachelor  Full-time            Not specified  \n",
       "3                     Bachelor  Full-time            Not specified  \n",
       "4  Doctorate; Master; Bachelor  Full-time  98;300 - 193;200 a year  "
      ]
     },
     "execution_count": 110,
     "metadata": {},
     "output_type": "execute_result"
    }
   ],
   "source": [
    "data.head()"
   ]
  },
  {
   "cell_type": "code",
   "execution_count": 111,
   "metadata": {},
   "outputs": [
    {
     "name": "stdout",
     "output_type": "stream",
     "text": [
      "<class 'pandas.core.frame.DataFrame'>\n",
      "RangeIndex: 734 entries, 0 to 733\n",
      "Data columns (total 8 columns):\n",
      " #   Column               Non-Null Count  Dtype \n",
      "---  ------               --------------  ----- \n",
      " 0   Job Title            734 non-null    object\n",
      " 1   Company Name         734 non-null    object\n",
      " 2   Location             734 non-null    object\n",
      " 3   Skills               569 non-null    object\n",
      " 4   Years of Experience  734 non-null    object\n",
      " 5   Education            734 non-null    object\n",
      " 6   Job Type             734 non-null    object\n",
      " 7   Salary               734 non-null    object\n",
      "dtypes: object(8)\n",
      "memory usage: 46.0+ KB\n"
     ]
    }
   ],
   "source": [
    "data.info()"
   ]
  },
  {
   "cell_type": "code",
   "execution_count": 112,
   "metadata": {},
   "outputs": [
    {
     "data": {
      "text/plain": [
       "Job Title                0\n",
       "Company Name             0\n",
       "Location                 0\n",
       "Skills                 165\n",
       "Years of Experience      0\n",
       "Education                0\n",
       "Job Type                 0\n",
       "Salary                   0\n",
       "dtype: int64"
      ]
     },
     "execution_count": 112,
     "metadata": {},
     "output_type": "execute_result"
    }
   ],
   "source": [
    "data.isna().sum()"
   ]
  },
  {
   "cell_type": "code",
   "execution_count": 113,
   "metadata": {},
   "outputs": [
    {
     "data": {
      "text/plain": [
       "Job Title                0\n",
       "Company Name             0\n",
       "Location                 0\n",
       "Skills                   0\n",
       "Years of Experience    361\n",
       "Education                0\n",
       "Job Type               326\n",
       "Salary                 451\n",
       "dtype: int64"
      ]
     },
     "execution_count": 113,
     "metadata": {},
     "output_type": "execute_result"
    }
   ],
   "source": [
    "not_specified_count = (data == \"Not specified\").sum()\n",
    "not_specified_count"
   ]
  },
  {
   "cell_type": "code",
   "execution_count": 114,
   "metadata": {},
   "outputs": [
    {
     "data": {
      "text/plain": [
       "array(['Not Specified', 'Master; Bachelor', 'Bachelor',\n",
       "       'Doctorate; Master; Bachelor', 'Master', 'Doctorate; Master',\n",
       "       'Doctorate', 'Doctorate; Bachelor', 'Bachelor; Doctorate; Master',\n",
       "       'Bachelor; Master', 'Bachelor; Doctorate'], dtype=object)"
      ]
     },
     "execution_count": 114,
     "metadata": {},
     "output_type": "execute_result"
    }
   ],
   "source": [
    "# Cleaning \"Education\"\n",
    "data['Education'].unique()"
   ]
  },
  {
   "cell_type": "markdown",
   "metadata": {},
   "source": [
    "## Nettoyage de la Colonne \"Education\""
   ]
  },
  {
   "cell_type": "markdown",
   "metadata": {},
   "source": [
    "Cette section examine les données, identifie les valeurs manquantes et remplace les \"Not specified\" dans la colonne \"Education\" par \"Master\". De nouvelles colonnes indiquant la présence de différents niveaux d'éducation sont créées."
   ]
  },
  {
   "cell_type": "code",
   "execution_count": 115,
   "metadata": {},
   "outputs": [
    {
     "name": "stdout",
     "output_type": "stream",
     "text": [
      "{'Bachelor': 267, 'Master': 276, 'Doctorate': 154}\n"
     ]
    }
   ],
   "source": [
    "education_counts = {\n",
    "    'Bachelor': data['Education'].str.contains('Bachelor', na=False).sum(),\n",
    "    'Master': data['Education'].str.contains('Master', na=False).sum(),\n",
    "    'Doctorate': data['Education'].str.contains('Doctorate', na=False).sum()\n",
    "}\n",
    "\n",
    "print(education_counts)"
   ]
  },
  {
   "cell_type": "code",
   "execution_count": 116,
   "metadata": {},
   "outputs": [],
   "source": [
    "data['Education'].replace('Not Specified', 'Master', inplace=True)"
   ]
  },
  {
   "cell_type": "code",
   "execution_count": 117,
   "metadata": {},
   "outputs": [],
   "source": [
    "# Colonnes 0 ou 1 pour chaque niveau d'éducation\n",
    "data['Has_Bachelor'] = data['Education'].str.contains('Bachelor', na=False).astype(int)\n",
    "data['Has_Master'] = data['Education'].str.contains('Master', na=False).astype(int)\n",
    "data['Has_Doctorate'] = data['Education'].str.contains('Doctorate', na=False).astype(int)"
   ]
  },
  {
   "cell_type": "code",
   "execution_count": 118,
   "metadata": {},
   "outputs": [
    {
     "data": {
      "text/html": [
       "<div>\n",
       "<style scoped>\n",
       "    .dataframe tbody tr th:only-of-type {\n",
       "        vertical-align: middle;\n",
       "    }\n",
       "\n",
       "    .dataframe tbody tr th {\n",
       "        vertical-align: top;\n",
       "    }\n",
       "\n",
       "    .dataframe thead th {\n",
       "        text-align: right;\n",
       "    }\n",
       "</style>\n",
       "<table border=\"1\" class=\"dataframe\">\n",
       "  <thead>\n",
       "    <tr style=\"text-align: right;\">\n",
       "      <th></th>\n",
       "      <th>Job Title</th>\n",
       "      <th>Company Name</th>\n",
       "      <th>Location</th>\n",
       "      <th>Skills</th>\n",
       "      <th>Years of Experience</th>\n",
       "      <th>Education</th>\n",
       "      <th>Job Type</th>\n",
       "      <th>Salary</th>\n",
       "      <th>Has_Bachelor</th>\n",
       "      <th>Has_Master</th>\n",
       "      <th>Has_Doctorate</th>\n",
       "    </tr>\n",
       "  </thead>\n",
       "  <tbody>\n",
       "    <tr>\n",
       "      <th>0</th>\n",
       "      <td>Data Scientist</td>\n",
       "      <td>DTN</td>\n",
       "      <td>Remote</td>\n",
       "      <td>Machine Learning, Pandas, Analytics, Software ...</td>\n",
       "      <td>2</td>\n",
       "      <td>Master</td>\n",
       "      <td>Full-time</td>\n",
       "      <td>94;500 - 115;500 a year</td>\n",
       "      <td>0</td>\n",
       "      <td>1</td>\n",
       "      <td>0</td>\n",
       "    </tr>\n",
       "    <tr>\n",
       "      <th>1</th>\n",
       "      <td>Data Scientist</td>\n",
       "      <td>Generac Power Systems</td>\n",
       "      <td>Pewaukee; WI 53188</td>\n",
       "      <td>Power BI, Data Visualization, Computer Science...</td>\n",
       "      <td>3</td>\n",
       "      <td>Master; Bachelor</td>\n",
       "      <td>Full-time</td>\n",
       "      <td>Not specified</td>\n",
       "      <td>1</td>\n",
       "      <td>1</td>\n",
       "      <td>0</td>\n",
       "    </tr>\n",
       "    <tr>\n",
       "      <th>2</th>\n",
       "      <td>Data Scientist</td>\n",
       "      <td>Big Lots</td>\n",
       "      <td>Columbus; OH 43081  (Albany Commons area)</td>\n",
       "      <td>Data Mining, Computer Science, Data Structures...</td>\n",
       "      <td>Not specified</td>\n",
       "      <td>Master; Bachelor</td>\n",
       "      <td>Full-time</td>\n",
       "      <td>Not specified</td>\n",
       "      <td>1</td>\n",
       "      <td>1</td>\n",
       "      <td>0</td>\n",
       "    </tr>\n",
       "    <tr>\n",
       "      <th>3</th>\n",
       "      <td>Data Scientist (Data Scientist 1)</td>\n",
       "      <td>HII</td>\n",
       "      <td>Remote in Alexandria; VA</td>\n",
       "      <td>Data Mining, Machine Learning, Project Managem...</td>\n",
       "      <td>4</td>\n",
       "      <td>Bachelor</td>\n",
       "      <td>Full-time</td>\n",
       "      <td>Not specified</td>\n",
       "      <td>1</td>\n",
       "      <td>0</td>\n",
       "      <td>0</td>\n",
       "    </tr>\n",
       "    <tr>\n",
       "      <th>4</th>\n",
       "      <td>Data Scientist</td>\n",
       "      <td>Microsoft</td>\n",
       "      <td>Atlanta; GA</td>\n",
       "      <td>Data Mining, Forecasting, Computer Science, AP...</td>\n",
       "      <td>2</td>\n",
       "      <td>Doctorate; Master; Bachelor</td>\n",
       "      <td>Full-time</td>\n",
       "      <td>98;300 - 193;200 a year</td>\n",
       "      <td>1</td>\n",
       "      <td>1</td>\n",
       "      <td>1</td>\n",
       "    </tr>\n",
       "    <tr>\n",
       "      <th>...</th>\n",
       "      <td>...</td>\n",
       "      <td>...</td>\n",
       "      <td>...</td>\n",
       "      <td>...</td>\n",
       "      <td>...</td>\n",
       "      <td>...</td>\n",
       "      <td>...</td>\n",
       "      <td>...</td>\n",
       "      <td>...</td>\n",
       "      <td>...</td>\n",
       "      <td>...</td>\n",
       "    </tr>\n",
       "    <tr>\n",
       "      <th>729</th>\n",
       "      <td>Senior Underwriting Data Analyst</td>\n",
       "      <td>Church Mutual Insurance; S.I.</td>\n",
       "      <td>Hybrid work in Merrill; WI 54452</td>\n",
       "      <td>Excel, SAS, Tableau, Research, Leadership</td>\n",
       "      <td>Not specified</td>\n",
       "      <td>Bachelor</td>\n",
       "      <td>Full-time</td>\n",
       "      <td>103;500 a year</td>\n",
       "      <td>1</td>\n",
       "      <td>0</td>\n",
       "      <td>0</td>\n",
       "    </tr>\n",
       "    <tr>\n",
       "      <th>730</th>\n",
       "      <td>Data Scientist</td>\n",
       "      <td>Orion</td>\n",
       "      <td>Hybrid work in West Sacramento; CA</td>\n",
       "      <td>AI, Deep Learning, Data Visualization, Data An...</td>\n",
       "      <td>Not specified</td>\n",
       "      <td>Doctorate; Master</td>\n",
       "      <td>Not specified</td>\n",
       "      <td>Not specified</td>\n",
       "      <td>0</td>\n",
       "      <td>1</td>\n",
       "      <td>1</td>\n",
       "    </tr>\n",
       "    <tr>\n",
       "      <th>731</th>\n",
       "      <td>Deep Learning Architect; Generative AI Innovat...</td>\n",
       "      <td>Amazon Web Services; Inc.</td>\n",
       "      <td>Santa Clara; CA 94085</td>\n",
       "      <td>AI, Sales, Deep Learning, R, AWS, Java, Cloud ...</td>\n",
       "      <td>Not specified</td>\n",
       "      <td>Bachelor; Doctorate; Master</td>\n",
       "      <td>Full-time</td>\n",
       "      <td>105;100 a year</td>\n",
       "      <td>1</td>\n",
       "      <td>1</td>\n",
       "      <td>1</td>\n",
       "    </tr>\n",
       "    <tr>\n",
       "      <th>732</th>\n",
       "      <td>Health Data Researcher; Data &amp; Insights</td>\n",
       "      <td>WALGREENS</td>\n",
       "      <td>Deerfield; IL 60015</td>\n",
       "      <td>NaN</td>\n",
       "      <td>Not specified</td>\n",
       "      <td>Master</td>\n",
       "      <td>Not specified</td>\n",
       "      <td>Not specified</td>\n",
       "      <td>0</td>\n",
       "      <td>1</td>\n",
       "      <td>0</td>\n",
       "    </tr>\n",
       "    <tr>\n",
       "      <th>733</th>\n",
       "      <td>Data Scientist</td>\n",
       "      <td>Microsoft</td>\n",
       "      <td>Atlanta; GA</td>\n",
       "      <td>Machine Learning, Cloud Computing, Computer Sc...</td>\n",
       "      <td>2</td>\n",
       "      <td>Doctorate; Master; Bachelor</td>\n",
       "      <td>Full-time</td>\n",
       "      <td>98;300 - 193;200 a year</td>\n",
       "      <td>1</td>\n",
       "      <td>1</td>\n",
       "      <td>1</td>\n",
       "    </tr>\n",
       "  </tbody>\n",
       "</table>\n",
       "<p>734 rows × 11 columns</p>\n",
       "</div>"
      ],
      "text/plain": [
       "                                             Job Title  \\\n",
       "0                                       Data Scientist   \n",
       "1                                       Data Scientist   \n",
       "2                                       Data Scientist   \n",
       "3                    Data Scientist (Data Scientist 1)   \n",
       "4                                       Data Scientist   \n",
       "..                                                 ...   \n",
       "729                   Senior Underwriting Data Analyst   \n",
       "730                                     Data Scientist   \n",
       "731  Deep Learning Architect; Generative AI Innovat...   \n",
       "732            Health Data Researcher; Data & Insights   \n",
       "733                                     Data Scientist   \n",
       "\n",
       "                      Company Name                                   Location  \\\n",
       "0                              DTN                                     Remote   \n",
       "1            Generac Power Systems                         Pewaukee; WI 53188   \n",
       "2                         Big Lots  Columbus; OH 43081  (Albany Commons area)   \n",
       "3                              HII                   Remote in Alexandria; VA   \n",
       "4                        Microsoft                                Atlanta; GA   \n",
       "..                             ...                                        ...   \n",
       "729  Church Mutual Insurance; S.I.           Hybrid work in Merrill; WI 54452   \n",
       "730                          Orion         Hybrid work in West Sacramento; CA   \n",
       "731      Amazon Web Services; Inc.                      Santa Clara; CA 94085   \n",
       "732                      WALGREENS                        Deerfield; IL 60015   \n",
       "733                      Microsoft                                Atlanta; GA   \n",
       "\n",
       "                                                Skills Years of Experience  \\\n",
       "0    Machine Learning, Pandas, Analytics, Software ...                   2   \n",
       "1    Power BI, Data Visualization, Computer Science...                   3   \n",
       "2    Data Mining, Computer Science, Data Structures...       Not specified   \n",
       "3    Data Mining, Machine Learning, Project Managem...                   4   \n",
       "4    Data Mining, Forecasting, Computer Science, AP...                   2   \n",
       "..                                                 ...                 ...   \n",
       "729          Excel, SAS, Tableau, Research, Leadership       Not specified   \n",
       "730  AI, Deep Learning, Data Visualization, Data An...       Not specified   \n",
       "731  AI, Sales, Deep Learning, R, AWS, Java, Cloud ...       Not specified   \n",
       "732                                                NaN       Not specified   \n",
       "733  Machine Learning, Cloud Computing, Computer Sc...                   2   \n",
       "\n",
       "                       Education       Job Type                   Salary  \\\n",
       "0                         Master      Full-time  94;500 - 115;500 a year   \n",
       "1               Master; Bachelor      Full-time            Not specified   \n",
       "2               Master; Bachelor      Full-time            Not specified   \n",
       "3                       Bachelor      Full-time            Not specified   \n",
       "4    Doctorate; Master; Bachelor      Full-time  98;300 - 193;200 a year   \n",
       "..                           ...            ...                      ...   \n",
       "729                     Bachelor      Full-time           103;500 a year   \n",
       "730            Doctorate; Master  Not specified            Not specified   \n",
       "731  Bachelor; Doctorate; Master      Full-time           105;100 a year   \n",
       "732                       Master  Not specified            Not specified   \n",
       "733  Doctorate; Master; Bachelor      Full-time  98;300 - 193;200 a year   \n",
       "\n",
       "     Has_Bachelor  Has_Master  Has_Doctorate  \n",
       "0               0           1              0  \n",
       "1               1           1              0  \n",
       "2               1           1              0  \n",
       "3               1           0              0  \n",
       "4               1           1              1  \n",
       "..            ...         ...            ...  \n",
       "729             1           0              0  \n",
       "730             0           1              1  \n",
       "731             1           1              1  \n",
       "732             0           1              0  \n",
       "733             1           1              1  \n",
       "\n",
       "[734 rows x 11 columns]"
      ]
     },
     "execution_count": 118,
     "metadata": {},
     "output_type": "execute_result"
    }
   ],
   "source": [
    "data"
   ]
  },
  {
   "cell_type": "code",
   "execution_count": 119,
   "metadata": {},
   "outputs": [
    {
     "data": {
      "text/html": [
       "<div>\n",
       "<style scoped>\n",
       "    .dataframe tbody tr th:only-of-type {\n",
       "        vertical-align: middle;\n",
       "    }\n",
       "\n",
       "    .dataframe tbody tr th {\n",
       "        vertical-align: top;\n",
       "    }\n",
       "\n",
       "    .dataframe thead th {\n",
       "        text-align: right;\n",
       "    }\n",
       "</style>\n",
       "<table border=\"1\" class=\"dataframe\">\n",
       "  <thead>\n",
       "    <tr style=\"text-align: right;\">\n",
       "      <th></th>\n",
       "      <th>Job Title</th>\n",
       "      <th>Company Name</th>\n",
       "      <th>Location</th>\n",
       "      <th>Skills</th>\n",
       "      <th>Years of Experience</th>\n",
       "      <th>Education</th>\n",
       "      <th>Job Type</th>\n",
       "      <th>Salary</th>\n",
       "      <th>Has_Bachelor</th>\n",
       "      <th>Has_Master</th>\n",
       "      <th>Has_Doctorate</th>\n",
       "    </tr>\n",
       "  </thead>\n",
       "  <tbody>\n",
       "    <tr>\n",
       "      <th>0</th>\n",
       "      <td>Data Scientist</td>\n",
       "      <td>DTN</td>\n",
       "      <td>Remote</td>\n",
       "      <td>Machine Learning, Pandas, Analytics, Software ...</td>\n",
       "      <td>2</td>\n",
       "      <td>Master</td>\n",
       "      <td>Full-time</td>\n",
       "      <td>94;500 - 115;500 a year</td>\n",
       "      <td>0</td>\n",
       "      <td>1</td>\n",
       "      <td>0</td>\n",
       "    </tr>\n",
       "    <tr>\n",
       "      <th>1</th>\n",
       "      <td>Data Scientist</td>\n",
       "      <td>Generac Power Systems</td>\n",
       "      <td>Pewaukee; WI 53188</td>\n",
       "      <td>Power BI, Data Visualization, Computer Science...</td>\n",
       "      <td>3</td>\n",
       "      <td>Master; Bachelor</td>\n",
       "      <td>Full-time</td>\n",
       "      <td>Not specified</td>\n",
       "      <td>1</td>\n",
       "      <td>1</td>\n",
       "      <td>0</td>\n",
       "    </tr>\n",
       "    <tr>\n",
       "      <th>2</th>\n",
       "      <td>Data Scientist</td>\n",
       "      <td>Big Lots</td>\n",
       "      <td>Columbus; OH 43081  (Albany Commons area)</td>\n",
       "      <td>Data Mining, Computer Science, Data Structures...</td>\n",
       "      <td>Not specified</td>\n",
       "      <td>Master; Bachelor</td>\n",
       "      <td>Full-time</td>\n",
       "      <td>Not specified</td>\n",
       "      <td>1</td>\n",
       "      <td>1</td>\n",
       "      <td>0</td>\n",
       "    </tr>\n",
       "    <tr>\n",
       "      <th>3</th>\n",
       "      <td>Data Scientist (Data Scientist 1)</td>\n",
       "      <td>HII</td>\n",
       "      <td>Remote in Alexandria; VA</td>\n",
       "      <td>Data Mining, Machine Learning, Project Managem...</td>\n",
       "      <td>4</td>\n",
       "      <td>Bachelor</td>\n",
       "      <td>Full-time</td>\n",
       "      <td>Not specified</td>\n",
       "      <td>1</td>\n",
       "      <td>0</td>\n",
       "      <td>0</td>\n",
       "    </tr>\n",
       "    <tr>\n",
       "      <th>4</th>\n",
       "      <td>Data Scientist</td>\n",
       "      <td>Microsoft</td>\n",
       "      <td>Atlanta; GA</td>\n",
       "      <td>Data Mining, Forecasting, Computer Science, AP...</td>\n",
       "      <td>2</td>\n",
       "      <td>Doctorate; Master; Bachelor</td>\n",
       "      <td>Full-time</td>\n",
       "      <td>98;300 - 193;200 a year</td>\n",
       "      <td>1</td>\n",
       "      <td>1</td>\n",
       "      <td>1</td>\n",
       "    </tr>\n",
       "  </tbody>\n",
       "</table>\n",
       "</div>"
      ],
      "text/plain": [
       "                           Job Title           Company Name  \\\n",
       "0                     Data Scientist                    DTN   \n",
       "1                     Data Scientist  Generac Power Systems   \n",
       "2                     Data Scientist               Big Lots   \n",
       "3  Data Scientist (Data Scientist 1)                    HII   \n",
       "4                     Data Scientist              Microsoft   \n",
       "\n",
       "                                    Location  \\\n",
       "0                                     Remote   \n",
       "1                         Pewaukee; WI 53188   \n",
       "2  Columbus; OH 43081  (Albany Commons area)   \n",
       "3                   Remote in Alexandria; VA   \n",
       "4                                Atlanta; GA   \n",
       "\n",
       "                                              Skills Years of Experience  \\\n",
       "0  Machine Learning, Pandas, Analytics, Software ...                   2   \n",
       "1  Power BI, Data Visualization, Computer Science...                   3   \n",
       "2  Data Mining, Computer Science, Data Structures...       Not specified   \n",
       "3  Data Mining, Machine Learning, Project Managem...                   4   \n",
       "4  Data Mining, Forecasting, Computer Science, AP...                   2   \n",
       "\n",
       "                     Education   Job Type                   Salary  \\\n",
       "0                       Master  Full-time  94;500 - 115;500 a year   \n",
       "1             Master; Bachelor  Full-time            Not specified   \n",
       "2             Master; Bachelor  Full-time            Not specified   \n",
       "3                     Bachelor  Full-time            Not specified   \n",
       "4  Doctorate; Master; Bachelor  Full-time  98;300 - 193;200 a year   \n",
       "\n",
       "   Has_Bachelor  Has_Master  Has_Doctorate  \n",
       "0             0           1              0  \n",
       "1             1           1              0  \n",
       "2             1           1              0  \n",
       "3             1           0              0  \n",
       "4             1           1              1  "
      ]
     },
     "execution_count": 119,
     "metadata": {},
     "output_type": "execute_result"
    }
   ],
   "source": [
    "data.head()"
   ]
  },
  {
   "cell_type": "markdown",
   "metadata": {},
   "source": [
    "## Visualisation des Niveaux d'Éducation Demandés"
   ]
  },
  {
   "cell_type": "code",
   "execution_count": 120,
   "metadata": {},
   "outputs": [
    {
     "name": "stderr",
     "output_type": "stream",
     "text": [
      "C:\\Users\\xelor\\AppData\\Local\\Temp\\ipykernel_7576\\2078660140.py:3: FutureWarning: \n",
      "\n",
      "Passing `palette` without assigning `hue` is deprecated and will be removed in v0.14.0. Assign the `x` variable to `hue` and set `legend=False` for the same effect.\n",
      "\n",
      "  sns.barplot(x=list(education_counts.keys()), y=list(education_counts.values()), palette='Set2')\n"
     ]
    },
    {
     "data": {
      "image/png": "[encoded data removed]",
      "text/plain": [
       "<Figure size 800x500 with 1 Axes>"
      ]
     },
     "metadata": {},
     "output_type": "display_data"
    }
   ],
   "source": [
    "sns.set_theme(style=\"whitegrid\")\n",
    "plt.figure(figsize=(8, 5))\n",
    "sns.barplot(x=list(education_counts.keys()), y=list(education_counts.values()), palette='Set2')\n",
    "plt.title('Nombre d\\'Offres Demandant Chaque Niveau d\\'Éducation')\n",
    "plt.xlabel('Niveau d\\'Éducation')\n",
    "plt.ylabel('Nombre d\\'Offres')\n",
    "plt.show()"
   ]
  },
  {
   "cell_type": "code",
   "execution_count": 121,
   "metadata": {},
   "outputs": [],
   "source": [
    "combinaisons = {\n",
    "    'Just Bachelor': data[(data['Has_Bachelor'] == 1) & (data['Has_Master'] == 0) & (data['Has_Doctorate'] == 0)].shape[0],\n",
    "    'Just Master': data[(data['Has_Bachelor'] == 0) & (data['Has_Master'] == 1) & (data['Has_Doctorate'] == 0)].shape[0],\n",
    "    'Just Doctorate': data[(data['Has_Bachelor'] == 0) & (data['Has_Master'] == 0) & (data['Has_Doctorate'] == 1)].shape[0],\n",
    "    'Bachelor and Master': data[(data['Has_Bachelor'] == 1) & (data['Has_Master'] == 1) & (data['Has_Doctorate'] == 0)].shape[0],\n",
    "    'Master and Doctorate': data[(data['Has_Bachelor'] == 0) & (data['Has_Master'] == 1) & (data['Has_Doctorate'] == 1)].shape[0],\n",
    "    'Bachelor and Doctorate': data[(data['Has_Bachelor'] == 1) & (data['Has_Master'] == 0) & (data['Has_Doctorate'] == 1)].shape[0],\n",
    "    'All Three': data[(data['Has_Bachelor'] == 1) & (data['Has_Master'] == 1) & (data['Has_Doctorate'] == 1)].shape[0]\n",
    "}"
   ]
  },
  {
   "cell_type": "code",
   "execution_count": 122,
   "metadata": {},
   "outputs": [
    {
     "name": "stderr",
     "output_type": "stream",
     "text": [
      "C:\\Users\\xelor\\AppData\\Local\\Temp\\ipykernel_7576\\2423104069.py:3: FutureWarning: \n",
      "\n",
      "Passing `palette` without assigning `hue` is deprecated and will be removed in v0.14.0. Assign the `x` variable to `hue` and set `legend=False` for the same effect.\n",
      "\n",
      "  sns.barplot(x=list(combinaisons.keys()), y=list(combinaisons.values()), palette='Set3')\n"
     ]
    },
    {
     "data": {
      "image/png": "[encoded data removed]",
      "text/plain": [
       "<Figure size 1000x600 with 1 Axes>"
      ]
     },
     "metadata": {},
     "output_type": "display_data"
    }
   ],
   "source": [
    "sns.set_theme(style=\"whitegrid\")\n",
    "plt.figure(figsize=(10, 6))\n",
    "sns.barplot(x=list(combinaisons.keys()), y=list(combinaisons.values()), palette='Set3')\n",
    "plt.title('Répartition des Combinaisons de Niveaux d\\'Éducation Demandés')\n",
    "plt.xlabel('Combinaison de Niveaux d\\'Éducation')\n",
    "plt.ylabel('Nombre d\\'Offres')\n",
    "plt.xticks(rotation=45)\n",
    "plt.show()"
   ]
  },
  {
   "cell_type": "markdown",
   "metadata": {},
   "source": [
    "## Nettoyage de la Colonne \"Years of Experience\""
   ]
  },
  {
   "cell_type": "code",
   "execution_count": 123,
   "metadata": {},
   "outputs": [
    {
     "data": {
      "text/plain": [
       "array([  2,   3,   0,   4,   5,   1,   6,  13,   7,  10,   8, 240,  15,\n",
       "        16,  12,  60, 100,  21,  80,  70,  30,  20, 129,   9,  18,  50,\n",
       "       125,  14], dtype=int64)"
      ]
     },
     "execution_count": 123,
     "metadata": {},
     "output_type": "execute_result"
    }
   ],
   "source": [
    "# Cleaning \"Years of Experience\"\n",
    "data['Years of Experience'] = data['Years of Experience'].replace('Not specified', 0)\n",
    "data['Years of Experience'] = pd.to_numeric(data['Years of Experience'])\n",
    "data['Years of Experience'].unique()"
   ]
  },
  {
   "cell_type": "code",
   "execution_count": 124,
   "metadata": {},
   "outputs": [],
   "source": [
    "def experience_level_name(x):\n",
    "    if x <= 5:\n",
    "        return 'Junior'\n",
    "    elif x <= 10:\n",
    "        return 'Mid-Level'\n",
    "    else:\n",
    "        return 'Senior'"
   ]
  },
  {
   "cell_type": "code",
   "execution_count": 125,
   "metadata": {},
   "outputs": [],
   "source": [
    "data['Experience Level'] = data['Years of Experience'].apply(experience_level_name)"
   ]
  },
  {
   "cell_type": "markdown",
   "metadata": {},
   "source": [
    "## Détermination du Niveau d'Éducation Idéal"
   ]
  },
  {
   "cell_type": "code",
   "execution_count": 126,
   "metadata": {},
   "outputs": [],
   "source": [
    "def determine_ideal_level(row):\n",
    "    if row['Has_Doctorate'] == 1:\n",
    "        return 'Doctorate'\n",
    "    elif row['Has_Master'] == 1:\n",
    "        return 'Master'\n",
    "    elif row['Has_Bachelor'] == 1:\n",
    "        return 'Bachelor'\n",
    "    else:\n",
    "        return np.nan"
   ]
  },
  {
   "cell_type": "code",
   "execution_count": 127,
   "metadata": {},
   "outputs": [],
   "source": [
    "data['Ideal_Level'] = data.apply(determine_ideal_level, axis=1)"
   ]
  },
  {
   "cell_type": "code",
   "execution_count": 128,
   "metadata": {},
   "outputs": [
    {
     "data": {
      "text/html": [
       "<div>\n",
       "<style scoped>\n",
       "    .dataframe tbody tr th:only-of-type {\n",
       "        vertical-align: middle;\n",
       "    }\n",
       "\n",
       "    .dataframe tbody tr th {\n",
       "        vertical-align: top;\n",
       "    }\n",
       "\n",
       "    .dataframe thead th {\n",
       "        text-align: right;\n",
       "    }\n",
       "</style>\n",
       "<table border=\"1\" class=\"dataframe\">\n",
       "  <thead>\n",
       "    <tr style=\"text-align: right;\">\n",
       "      <th></th>\n",
       "      <th>Job Title</th>\n",
       "      <th>Company Name</th>\n",
       "      <th>Location</th>\n",
       "      <th>Skills</th>\n",
       "      <th>Years of Experience</th>\n",
       "      <th>Education</th>\n",
       "      <th>Job Type</th>\n",
       "      <th>Salary</th>\n",
       "      <th>Has_Bachelor</th>\n",
       "      <th>Has_Master</th>\n",
       "      <th>Has_Doctorate</th>\n",
       "      <th>Experience Level</th>\n",
       "      <th>Ideal_Level</th>\n",
       "    </tr>\n",
       "  </thead>\n",
       "  <tbody>\n",
       "    <tr>\n",
       "      <th>0</th>\n",
       "      <td>Data Scientist</td>\n",
       "      <td>DTN</td>\n",
       "      <td>Remote</td>\n",
       "      <td>Machine Learning, Pandas, Analytics, Software ...</td>\n",
       "      <td>2</td>\n",
       "      <td>Master</td>\n",
       "      <td>Full-time</td>\n",
       "      <td>94;500 - 115;500 a year</td>\n",
       "      <td>0</td>\n",
       "      <td>1</td>\n",
       "      <td>0</td>\n",
       "      <td>Junior</td>\n",
       "      <td>Master</td>\n",
       "    </tr>\n",
       "    <tr>\n",
       "      <th>1</th>\n",
       "      <td>Data Scientist</td>\n",
       "      <td>Generac Power Systems</td>\n",
       "      <td>Pewaukee; WI 53188</td>\n",
       "      <td>Power BI, Data Visualization, Computer Science...</td>\n",
       "      <td>3</td>\n",
       "      <td>Master; Bachelor</td>\n",
       "      <td>Full-time</td>\n",
       "      <td>Not specified</td>\n",
       "      <td>1</td>\n",
       "      <td>1</td>\n",
       "      <td>0</td>\n",
       "      <td>Junior</td>\n",
       "      <td>Master</td>\n",
       "    </tr>\n",
       "    <tr>\n",
       "      <th>2</th>\n",
       "      <td>Data Scientist</td>\n",
       "      <td>Big Lots</td>\n",
       "      <td>Columbus; OH 43081  (Albany Commons area)</td>\n",
       "      <td>Data Mining, Computer Science, Data Structures...</td>\n",
       "      <td>0</td>\n",
       "      <td>Master; Bachelor</td>\n",
       "      <td>Full-time</td>\n",
       "      <td>Not specified</td>\n",
       "      <td>1</td>\n",
       "      <td>1</td>\n",
       "      <td>0</td>\n",
       "      <td>Junior</td>\n",
       "      <td>Master</td>\n",
       "    </tr>\n",
       "    <tr>\n",
       "      <th>3</th>\n",
       "      <td>Data Scientist (Data Scientist 1)</td>\n",
       "      <td>HII</td>\n",
       "      <td>Remote in Alexandria; VA</td>\n",
       "      <td>Data Mining, Machine Learning, Project Managem...</td>\n",
       "      <td>4</td>\n",
       "      <td>Bachelor</td>\n",
       "      <td>Full-time</td>\n",
       "      <td>Not specified</td>\n",
       "      <td>1</td>\n",
       "      <td>0</td>\n",
       "      <td>0</td>\n",
       "      <td>Junior</td>\n",
       "      <td>Bachelor</td>\n",
       "    </tr>\n",
       "    <tr>\n",
       "      <th>4</th>\n",
       "      <td>Data Scientist</td>\n",
       "      <td>Microsoft</td>\n",
       "      <td>Atlanta; GA</td>\n",
       "      <td>Data Mining, Forecasting, Computer Science, AP...</td>\n",
       "      <td>2</td>\n",
       "      <td>Doctorate; Master; Bachelor</td>\n",
       "      <td>Full-time</td>\n",
       "      <td>98;300 - 193;200 a year</td>\n",
       "      <td>1</td>\n",
       "      <td>1</td>\n",
       "      <td>1</td>\n",
       "      <td>Junior</td>\n",
       "      <td>Doctorate</td>\n",
       "    </tr>\n",
       "  </tbody>\n",
       "</table>\n",
       "</div>"
      ],
      "text/plain": [
       "                           Job Title           Company Name  \\\n",
       "0                     Data Scientist                    DTN   \n",
       "1                     Data Scientist  Generac Power Systems   \n",
       "2                     Data Scientist               Big Lots   \n",
       "3  Data Scientist (Data Scientist 1)                    HII   \n",
       "4                     Data Scientist              Microsoft   \n",
       "\n",
       "                                    Location  \\\n",
       "0                                     Remote   \n",
       "1                         Pewaukee; WI 53188   \n",
       "2  Columbus; OH 43081  (Albany Commons area)   \n",
       "3                   Remote in Alexandria; VA   \n",
       "4                                Atlanta; GA   \n",
       "\n",
       "                                              Skills  Years of Experience  \\\n",
       "0  Machine Learning, Pandas, Analytics, Software ...                    2   \n",
       "1  Power BI, Data Visualization, Computer Science...                    3   \n",
       "2  Data Mining, Computer Science, Data Structures...                    0   \n",
       "3  Data Mining, Machine Learning, Project Managem...                    4   \n",
       "4  Data Mining, Forecasting, Computer Science, AP...                    2   \n",
       "\n",
       "                     Education   Job Type                   Salary  \\\n",
       "0                       Master  Full-time  94;500 - 115;500 a year   \n",
       "1             Master; Bachelor  Full-time            Not specified   \n",
       "2             Master; Bachelor  Full-time            Not specified   \n",
       "3                     Bachelor  Full-time            Not specified   \n",
       "4  Doctorate; Master; Bachelor  Full-time  98;300 - 193;200 a year   \n",
       "\n",
       "   Has_Bachelor  Has_Master  Has_Doctorate Experience Level Ideal_Level  \n",
       "0             0           1              0           Junior      Master  \n",
       "1             1           1              0           Junior      Master  \n",
       "2             1           1              0           Junior      Master  \n",
       "3             1           0              0           Junior    Bachelor  \n",
       "4             1           1              1           Junior   Doctorate  "
      ]
     },
     "execution_count": 128,
     "metadata": {},
     "output_type": "execute_result"
    }
   ],
   "source": [
    "data.head()"
   ]
  },
  {
   "cell_type": "markdown",
   "metadata": {},
   "source": [
    "## Visualisation des Niveaux d'Expérience"
   ]
  },
  {
   "cell_type": "code",
   "execution_count": 129,
   "metadata": {},
   "outputs": [],
   "source": [
    "experience_counts = data['Experience Level'].value_counts()"
   ]
  },
  {
   "cell_type": "code",
   "execution_count": 130,
   "metadata": {},
   "outputs": [
    {
     "name": "stderr",
     "output_type": "stream",
     "text": [
      "C:\\Users\\xelor\\AppData\\Local\\Temp\\ipykernel_7576\\746671227.py:2: FutureWarning: \n",
      "\n",
      "Passing `palette` without assigning `hue` is deprecated and will be removed in v0.14.0. Assign the `x` variable to `hue` and set `legend=False` for the same effect.\n",
      "\n",
      "  sns.barplot(x=experience_counts.index, y=experience_counts.values, palette='pastel')\n"
     ]
    },
    {
     "data": {
      "image/png": "[encoded data removed]",
      "text/plain": [
       "<Figure size 800x500 with 1 Axes>"
      ]
     },
     "metadata": {},
     "output_type": "display_data"
    }
   ],
   "source": [
    "plt.figure(figsize=(8, 5))\n",
    "sns.barplot(x=experience_counts.index, y=experience_counts.values, palette='pastel')\n",
    "plt.title('Répartition des Niveaux d\\'Expérience')\n",
    "plt.xlabel('Niveau d\\'Expérience')\n",
    "plt.ylabel('Nombre')\n",
    "plt.show()"
   ]
  },
  {
   "cell_type": "markdown",
   "metadata": {},
   "source": [
    "## Nettoyage de la Colonne \"Job Type\""
   ]
  },
  {
   "cell_type": "code",
   "execution_count": 131,
   "metadata": {},
   "outputs": [
    {
     "data": {
      "text/plain": [
       "402"
      ]
     },
     "execution_count": 131,
     "metadata": {},
     "output_type": "execute_result"
    }
   ],
   "source": [
    "full_time_count = (data['Job Type'] == \"Full-time\").sum()\n",
    "full_time_count"
   ]
  },
  {
   "cell_type": "code",
   "execution_count": 132,
   "metadata": {},
   "outputs": [
    {
     "data": {
      "text/plain": [
       "6"
      ]
     },
     "execution_count": 132,
     "metadata": {},
     "output_type": "execute_result"
    }
   ],
   "source": [
    "part_time_count = (data['Job Type'] == \"Part-time\").sum()\n",
    "part_time_count"
   ]
  },
  {
   "cell_type": "code",
   "execution_count": 133,
   "metadata": {},
   "outputs": [
    {
     "data": {
      "text/plain": [
       "0"
      ]
     },
     "execution_count": 133,
     "metadata": {},
     "output_type": "execute_result"
    }
   ],
   "source": [
    "internship_count = (data['Job Type'] == \"Internship\").sum()\n",
    "internship_count"
   ]
  },
  {
   "cell_type": "code",
   "execution_count": 134,
   "metadata": {},
   "outputs": [],
   "source": [
    "data['Job Type'].replace(\"Not specified\", \"Full-time\", inplace = True)"
   ]
  },
  {
   "cell_type": "code",
   "execution_count": 135,
   "metadata": {},
   "outputs": [
    {
     "data": {
      "text/plain": [
       "728"
      ]
     },
     "execution_count": 135,
     "metadata": {},
     "output_type": "execute_result"
    }
   ],
   "source": [
    "full_time_count = (data['Job Type'] == \"Full-time\").sum()\n",
    "full_time_count"
   ]
  },
  {
   "cell_type": "markdown",
   "metadata": {},
   "source": [
    "## Conversion des Salaires"
   ]
  },
  {
   "cell_type": "code",
   "execution_count": 136,
   "metadata": {},
   "outputs": [
    {
     "data": {
      "text/plain": [
       "array(['94;500 - 115;500 a year', 'Not specified',\n",
       "       '98;300 - 193;200 a year', '80;000 - 105;000 a year',\n",
       "       '92;400 - 115;500 a year', '139;395 - 181;216 a year',\n",
       "       '66;220 - 108;180 a year', '82;915 - 175;100 a year',\n",
       "       '125;000 - 140;000 a year', '76;128 - 124;800 a year',\n",
       "       '85;000 - 106;300 a year', '75;600 - 172;000 a year',\n",
       "       '98;717 - 196;000 a year', '152;000 - 190;000 a year',\n",
       "       '119;700 - 222;300 a year', '108;306 - 170;000 a year',\n",
       "       '94;500 - 196;000 a year', '143;850 - 221;550 a year',\n",
       "       '107;766 - 153;951 a year', '97;500 - 173;675 a year',\n",
       "       '85;000 - 100;000 a year', '88;000 - 173;200 a year',\n",
       "       '130;000 - 170;000 a year', '168;000 - 252;000 a year',\n",
       "       '112;404 a year', '138;900 - 256;500 a year',\n",
       "       '103;000 - 163;000 a year', '123;000 - 185;000 a year',\n",
       "       '81;000 - 162;000 a year', '130;000 - 155;000 a year',\n",
       "       '123;480 - 206;040 a year', '100;000 - 130;000 a year',\n",
       "       '$102;600 - $178;600 \\\\$(\\\\d+;\\\\d+)', '159;980 - 193;021 a year',\n",
       "       '135;000 - 155;000 a year', '163;238 a year',\n",
       "       '112;000 - 160;000 a year', '108;306 - 196;000 a year',\n",
       "       '132;000 - 172;500 a year', '100;200 - 167;000 a year',\n",
       "       '80;000 - 110;000 a year', '140;000 - 170;000 a year',\n",
       "       '130;000 - 160;000 a year', '50;000 a year',\n",
       "       '93;400 - 116;800 a year', '103;500 a year',\n",
       "       '60;000 - 70;000 a year', '65;370 - 91;765 a year',\n",
       "       '90;500 - 115;000 a year', '124;000 - 158;000 a year',\n",
       "       '150;000 - 200;000 a year', '101;250 - 135;000 a year',\n",
       "       '91;000 - 136;600 a year', '110;000 - 135;000 a year',\n",
       "       '150;000 - 180;000 a year', '110;000 - 130;000 a year',\n",
       "       '148;500 - 187;500 a year', '56;623 - 68;407 a year',\n",
       "       '40 - 50 an hour', '76;900 - 138;900 a year',\n",
       "       '117;430 - 158;530 a year', '108;306 - 200;000 a year',\n",
       "       '120;000 - 130;000 a year', '81;963 - 127;707 a year',\n",
       "       '245;000 - 385;000 a year', '146;301 - 178;600 a year',\n",
       "       '200;000 - 220;000 a year', '190;000 - 210;000 a year',\n",
       "       '100;000 - 120;000 a year', '134;472 - 141;933 a year',\n",
       "       '92;000 a year', '132;250 - 260;000 a year',\n",
       "       '175;812 - 296;688 a year', '115;100 a year',\n",
       "       '99;000 - 300;000 a year', '104;700 - 190;400 a year',\n",
       "       '89;690 - 150;000 a year', '70;400 - 108;400 a year',\n",
       "       '107;900 - 192;300 a year', '108;100 - 162;300 a year',\n",
       "       '100;000 - 140;000 a year', '96;000 - 110;000 a year',\n",
       "       '80;000 - 150;000 a year', '143;314 - 169;083 a year',\n",
       "       '93;800 - 168;800 a year', '96;900 - 234;300 a year',\n",
       "       '121;000 - 167;000 a year', '148;049 - 304;496 a year',\n",
       "       '117;962 - 153;354 a year', '121;500 - 186;000 a year',\n",
       "       '98;400 - 123;000 a year', '57;629 - 88;159 a year',\n",
       "       '111;700 - 174;504 a year', '104;390 - 166;760 a year',\n",
       "       '66;560 - 97;000 a year', '75;324 a year',\n",
       "       '75;540 - 98;201 a year', '43;700 - 102;000 a year',\n",
       "       '74;859 - 112;195 a year', '80;800 - 105;500 a year',\n",
       "       '103;300 - 172;100 a year', '164;000 - 172;000 a year',\n",
       "       '$8;668 \\\\$(\\\\d{1;3}(?:;\\\\d{3})*)',\n",
       "       '$93;101 - $139;630 \\\\$(\\\\d+;\\\\d+)', '128;717 - 167;336 a year',\n",
       "       '114;000 - 170;000 a year', '51;400 a year',\n",
       "       '75;000 - 85;000 a year', '130;000 - 140;000 a year',\n",
       "       '124;600 - 230;600 a year', '75;000 - 86;000 a year',\n",
       "       '109;200 - 202;800 a year', '74;000 - 98;572 a year',\n",
       "       '108;306 - 140;000 a year', '55;200 - 96;600 a year',\n",
       "       '174;175 - 304;496 a year', '110;000 a year', '62;974 a year',\n",
       "       '126;500 - 177;300 a year', '136;000 a year',\n",
       "       '55;000 - 105;000 a year', '150;700 - 284;400 a year',\n",
       "       '310;000 - 550;000 a year', '74;400 - 93;000 a year',\n",
       "       '80;870 - 150;000 a year', '120;000 - 180;000 a year',\n",
       "       '171;000 - 190;000 a year', '99;000 - 128;000 a year',\n",
       "       '109;000 - 147;500 a year', '158;000 a year',\n",
       "       '135;300 - 211;600 a year', '80;000 - 140;000 a year',\n",
       "       '131;498 - 177;300 a year', '123;700 a year',\n",
       "       '142;000 - 189;000 a year', '118;500 - 219;100 a year',\n",
       "       '111;600 a year', '50;000 - 180;000 a year',\n",
       "       '135;000 - 165;000 a year', '127;300 - 229;300 a year',\n",
       "       '127;300 a year', '440;000 - 530;000 a year',\n",
       "       '176;000 - 215;000 a year', '110;000 - 160;000 a year',\n",
       "       '93;800 - 202;600 a year', '245;000 - 440;000 a year',\n",
       "       '153;000 - 332;000 a year', '152;105 - 191;900 a year',\n",
       "       '148;500 - 222;500 a year', '117;200 - 229;200 a year',\n",
       "       '94;300 - 182;600 a year', '126;600 - 227;900 a year',\n",
       "       '185;000 a year', '217;400 - 294;100 a year',\n",
       "       '133;000 - 185;000 a year', '157;040 - 203;900 a year',\n",
       "       '119;000 - 134;000 a year', '72;553 - 134;435 a year',\n",
       "       '80;000 - 155;000 a year', '60;500 - 90;800 a year',\n",
       "       '110;000 - 300;000 a year', '149;800 - 207;000 a year',\n",
       "       '108;000 - 168;000 a year', '112;015 - 145;617 a year',\n",
       "       '66;500 - 89;900 a year', '215;000 - 250;000 a year',\n",
       "       '197;472 - 296;208 a year', '76;000 - 86;000 a year',\n",
       "       '105;100 a year', '145;000 - 281;000 a year',\n",
       "       '131;500 - 243;300 a year', '90;000 - 130;000 a year',\n",
       "       '70;800 - 353;500 a year', '177;000 - 251;000 a year',\n",
       "       '108;300 - 168;800 a year', '113;750 - 240;993 a year',\n",
       "       '77;400 - 116;200 a year', '119;000 - 168;150 a year'],\n",
       "      dtype=object)"
      ]
     },
     "execution_count": 136,
     "metadata": {},
     "output_type": "execute_result"
    }
   ],
   "source": [
    "data['Salary'].unique()"
   ]
  },
  {
   "cell_type": "code",
   "execution_count": 137,
   "metadata": {},
   "outputs": [],
   "source": [
    "def convert_salary(salary_str):\n",
    "    salary_str = salary_str.replace(';', '').replace(',', '').replace('an hour', '').strip()\n",
    "    \n",
    "    if 'Not specified' in salary_str:\n",
    "        return np.nan\n",
    "    elif 'a year' in salary_str:\n",
    "        salary_str = salary_str.replace('a year', '').strip()\n",
    "        if '-' in salary_str:\n",
    "            # Conversion une fourchette de salaire annuel\n",
    "            low, high = map(float, salary_str.split('-'))\n",
    "            return (low + high) / 2\n",
    "        else:\n",
    "            # Conversion un salaire fixe annuel\n",
    "            return float(salary_str)\n",
    "    elif 'an hour' in salary_str:\n",
    "        # Conversion un salaire horaire en salaire annuel\n",
    "        if '-' in salary_str:\n",
    "            low, high = map(float, salary_str.split('-'))\n",
    "            return ((low + high) / 2) * 40 * 52\n",
    "        else:\n",
    "            return float(salary_str) * 40 * 52"
   ]
  },
  {
   "cell_type": "code",
   "execution_count": 138,
   "metadata": {},
   "outputs": [],
   "source": [
    "data['Converted Salary'] = data['Salary'].apply(lambda x: convert_salary(x) if x != 'Not specified' else np.nan)"
   ]
  },
  {
   "cell_type": "code",
   "execution_count": 139,
   "metadata": {},
   "outputs": [],
   "source": [
    "median_salary = data['Converted Salary'].median()"
   ]
  },
  {
   "cell_type": "code",
   "execution_count": 182,
   "metadata": {},
   "outputs": [
    {
     "data": {
      "text/plain": [
       "0"
      ]
     },
     "execution_count": 182,
     "metadata": {},
     "output_type": "execute_result"
    }
   ],
   "source": [
    "data['Salary'] = data['Salary'].replace('Not specified', median_salary)\n",
    "data['Converted Salary'].fillna(median_salary, inplace=True)\n",
    "data['Converted Salary'].isna().sum()"
   ]
  },
  {
   "cell_type": "markdown",
   "metadata": {},
   "source": [
    "## Visualisation de la Distribution des Salaires"
   ]
  },
  {
   "cell_type": "code",
   "execution_count": 141,
   "metadata": {},
   "outputs": [
    {
     "data": {
      "image/png": "[encoded data removed]",
      "text/plain": [
       "<Figure size 1000x600 with 1 Axes>"
      ]
     },
     "metadata": {},
     "output_type": "display_data"
    }
   ],
   "source": [
    "sns.set_theme(style=\"whitegrid\")\n",
    "plt.figure(figsize=(10, 6))\n",
    "sns.histplot(data['Converted Salary'], bins=30, kde=True, color=\"skyblue\")\n",
    "plt.title('Distribution des Salaires Convertis')\n",
    "plt.xlabel('Salaire ($)')\n",
    "plt.ylabel('Densité')\n",
    "plt.show()"
   ]
  },
  {
   "cell_type": "markdown",
   "metadata": {},
   "source": [
    "## Traitement des Compétences"
   ]
  },
  {
   "cell_type": "code",
   "execution_count": 142,
   "metadata": {},
   "outputs": [],
   "source": [
    "skills_dummies = data['Skills'].str.get_dummies(sep=',')"
   ]
  },
  {
   "cell_type": "code",
   "execution_count": 143,
   "metadata": {},
   "outputs": [],
   "source": [
    "data = pd.concat([data, skills_dummies], axis=1)"
   ]
  },
  {
   "cell_type": "code",
   "execution_count": 144,
   "metadata": {},
   "outputs": [
    {
     "data": {
      "text/html": [
       "<div>\n",
       "<style scoped>\n",
       "    .dataframe tbody tr th:only-of-type {\n",
       "        vertical-align: middle;\n",
       "    }\n",
       "\n",
       "    .dataframe tbody tr th {\n",
       "        vertical-align: top;\n",
       "    }\n",
       "\n",
       "    .dataframe thead th {\n",
       "        text-align: right;\n",
       "    }\n",
       "</style>\n",
       "<table border=\"1\" class=\"dataframe\">\n",
       "  <thead>\n",
       "    <tr style=\"text-align: right;\">\n",
       "      <th></th>\n",
       "      <th>Job Title</th>\n",
       "      <th>Company Name</th>\n",
       "      <th>Location</th>\n",
       "      <th>Skills</th>\n",
       "      <th>Years of Experience</th>\n",
       "      <th>Education</th>\n",
       "      <th>Job Type</th>\n",
       "      <th>Salary</th>\n",
       "      <th>Has_Bachelor</th>\n",
       "      <th>Has_Master</th>\n",
       "      <th>...</th>\n",
       "      <th>Research</th>\n",
       "      <th>Risk Management</th>\n",
       "      <th>SQL</th>\n",
       "      <th>Sales</th>\n",
       "      <th>Scripting</th>\n",
       "      <th>Software development</th>\n",
       "      <th>Spark</th>\n",
       "      <th>Tableau</th>\n",
       "      <th>TensorFlow</th>\n",
       "      <th>XML</th>\n",
       "    </tr>\n",
       "  </thead>\n",
       "  <tbody>\n",
       "    <tr>\n",
       "      <th>0</th>\n",
       "      <td>Data Scientist</td>\n",
       "      <td>DTN</td>\n",
       "      <td>Remote</td>\n",
       "      <td>Machine Learning, Pandas, Analytics, Software ...</td>\n",
       "      <td>2</td>\n",
       "      <td>Master</td>\n",
       "      <td>Full-time</td>\n",
       "      <td>94;500 - 115;500 a year</td>\n",
       "      <td>0</td>\n",
       "      <td>1</td>\n",
       "      <td>...</td>\n",
       "      <td>0</td>\n",
       "      <td>0</td>\n",
       "      <td>0</td>\n",
       "      <td>0</td>\n",
       "      <td>0</td>\n",
       "      <td>0</td>\n",
       "      <td>0</td>\n",
       "      <td>0</td>\n",
       "      <td>0</td>\n",
       "      <td>0</td>\n",
       "    </tr>\n",
       "    <tr>\n",
       "      <th>1</th>\n",
       "      <td>Data Scientist</td>\n",
       "      <td>Generac Power Systems</td>\n",
       "      <td>Pewaukee; WI 53188</td>\n",
       "      <td>Power BI, Data Visualization, Computer Science...</td>\n",
       "      <td>3</td>\n",
       "      <td>Master; Bachelor</td>\n",
       "      <td>Full-time</td>\n",
       "      <td>136000.0</td>\n",
       "      <td>1</td>\n",
       "      <td>1</td>\n",
       "      <td>...</td>\n",
       "      <td>0</td>\n",
       "      <td>0</td>\n",
       "      <td>0</td>\n",
       "      <td>0</td>\n",
       "      <td>0</td>\n",
       "      <td>0</td>\n",
       "      <td>0</td>\n",
       "      <td>0</td>\n",
       "      <td>0</td>\n",
       "      <td>0</td>\n",
       "    </tr>\n",
       "    <tr>\n",
       "      <th>2</th>\n",
       "      <td>Data Scientist</td>\n",
       "      <td>Big Lots</td>\n",
       "      <td>Columbus; OH 43081  (Albany Commons area)</td>\n",
       "      <td>Data Mining, Computer Science, Data Structures...</td>\n",
       "      <td>0</td>\n",
       "      <td>Master; Bachelor</td>\n",
       "      <td>Full-time</td>\n",
       "      <td>136000.0</td>\n",
       "      <td>1</td>\n",
       "      <td>1</td>\n",
       "      <td>...</td>\n",
       "      <td>0</td>\n",
       "      <td>0</td>\n",
       "      <td>0</td>\n",
       "      <td>0</td>\n",
       "      <td>0</td>\n",
       "      <td>0</td>\n",
       "      <td>0</td>\n",
       "      <td>0</td>\n",
       "      <td>0</td>\n",
       "      <td>0</td>\n",
       "    </tr>\n",
       "    <tr>\n",
       "      <th>3</th>\n",
       "      <td>Data Scientist (Data Scientist 1)</td>\n",
       "      <td>HII</td>\n",
       "      <td>Remote in Alexandria; VA</td>\n",
       "      <td>Data Mining, Machine Learning, Project Managem...</td>\n",
       "      <td>4</td>\n",
       "      <td>Bachelor</td>\n",
       "      <td>Full-time</td>\n",
       "      <td>136000.0</td>\n",
       "      <td>1</td>\n",
       "      <td>0</td>\n",
       "      <td>...</td>\n",
       "      <td>0</td>\n",
       "      <td>0</td>\n",
       "      <td>0</td>\n",
       "      <td>0</td>\n",
       "      <td>0</td>\n",
       "      <td>0</td>\n",
       "      <td>0</td>\n",
       "      <td>0</td>\n",
       "      <td>0</td>\n",
       "      <td>0</td>\n",
       "    </tr>\n",
       "    <tr>\n",
       "      <th>4</th>\n",
       "      <td>Data Scientist</td>\n",
       "      <td>Microsoft</td>\n",
       "      <td>Atlanta; GA</td>\n",
       "      <td>Data Mining, Forecasting, Computer Science, AP...</td>\n",
       "      <td>2</td>\n",
       "      <td>Doctorate; Master; Bachelor</td>\n",
       "      <td>Full-time</td>\n",
       "      <td>98;300 - 193;200 a year</td>\n",
       "      <td>1</td>\n",
       "      <td>1</td>\n",
       "      <td>...</td>\n",
       "      <td>0</td>\n",
       "      <td>0</td>\n",
       "      <td>0</td>\n",
       "      <td>0</td>\n",
       "      <td>0</td>\n",
       "      <td>0</td>\n",
       "      <td>0</td>\n",
       "      <td>0</td>\n",
       "      <td>0</td>\n",
       "      <td>0</td>\n",
       "    </tr>\n",
       "  </tbody>\n",
       "</table>\n",
       "<p>5 rows × 163 columns</p>\n",
       "</div>"
      ],
      "text/plain": [
       "                           Job Title           Company Name  \\\n",
       "0                     Data Scientist                    DTN   \n",
       "1                     Data Scientist  Generac Power Systems   \n",
       "2                     Data Scientist               Big Lots   \n",
       "3  Data Scientist (Data Scientist 1)                    HII   \n",
       "4                     Data Scientist              Microsoft   \n",
       "\n",
       "                                    Location  \\\n",
       "0                                     Remote   \n",
       "1                         Pewaukee; WI 53188   \n",
       "2  Columbus; OH 43081  (Albany Commons area)   \n",
       "3                   Remote in Alexandria; VA   \n",
       "4                                Atlanta; GA   \n",
       "\n",
       "                                              Skills  Years of Experience  \\\n",
       "0  Machine Learning, Pandas, Analytics, Software ...                    2   \n",
       "1  Power BI, Data Visualization, Computer Science...                    3   \n",
       "2  Data Mining, Computer Science, Data Structures...                    0   \n",
       "3  Data Mining, Machine Learning, Project Managem...                    4   \n",
       "4  Data Mining, Forecasting, Computer Science, AP...                    2   \n",
       "\n",
       "                     Education   Job Type                   Salary  \\\n",
       "0                       Master  Full-time  94;500 - 115;500 a year   \n",
       "1             Master; Bachelor  Full-time                 136000.0   \n",
       "2             Master; Bachelor  Full-time                 136000.0   \n",
       "3                     Bachelor  Full-time                 136000.0   \n",
       "4  Doctorate; Master; Bachelor  Full-time  98;300 - 193;200 a year   \n",
       "\n",
       "   Has_Bachelor  Has_Master  ...  Research Risk Management SQL  Sales  \\\n",
       "0             0           1  ...         0               0   0      0   \n",
       "1             1           1  ...         0               0   0      0   \n",
       "2             1           1  ...         0               0   0      0   \n",
       "3             1           0  ...         0               0   0      0   \n",
       "4             1           1  ...         0               0   0      0   \n",
       "\n",
       "   Scripting  Software development  Spark  Tableau  TensorFlow  XML  \n",
       "0          0                     0      0        0           0    0  \n",
       "1          0                     0      0        0           0    0  \n",
       "2          0                     0      0        0           0    0  \n",
       "3          0                     0      0        0           0    0  \n",
       "4          0                     0      0        0           0    0  \n",
       "\n",
       "[5 rows x 163 columns]"
      ]
     },
     "execution_count": 144,
     "metadata": {},
     "output_type": "execute_result"
    }
   ],
   "source": [
    "data.head()"
   ]
  },
  {
   "cell_type": "code",
   "execution_count": 145,
   "metadata": {},
   "outputs": [
    {
     "name": "stdout",
     "output_type": "stream",
     "text": [
      " A/B Testing             0.021798\n",
      " AI                      0.080381\n",
      " APIs                    0.044959\n",
      " AWS                     0.143052\n",
      " Accounting              0.006812\n",
      "                           ...   \n",
      " Software development    0.080381\n",
      " Spark                   0.057221\n",
      " Statistical Analysis    0.140327\n",
      " Statistical Software    0.047684\n",
      " Statistics              0.449591\n",
      "Length: 97, dtype: float64\n"
     ]
    }
   ],
   "source": [
    "# Assuming `data` is your DataFrame and it is already defined.\n",
    "skill_frenquency = data.loc[:, ' A/B Testing':' Statistics'].sum() / len(data)\n",
    "print(skill_frenquency)"
   ]
  },
  {
   "cell_type": "code",
   "execution_count": 146,
   "metadata": {},
   "outputs": [
    {
     "name": "stdout",
     "output_type": "stream",
     "text": [
      "['Job Title', 'Company Name', 'Location', 'Skills', 'Years of Experience', 'Education', 'Job Type', 'Salary', 'Has_Bachelor', 'Has_Master', 'Has_Doctorate', 'Experience Level', 'Ideal_Level', 'Converted Salary', ' A/B Testing', ' AI', ' APIs', ' AWS', ' Accounting', ' Agile', ' Analysis Skills', ' Analytics', ' Azure', ' Banking', ' Big Data', ' Business Analysis', ' CI/CD', ' Cloud Computing', ' Computer Science', ' Computer Vision', ' Data Analysis', ' Data Analysis Skills', ' Data Analytics', ' Data Engineering', ' Data Mining', ' Data Structures', ' Data Visualization', ' Data Warehouse', ' Data lake', ' Deep Learning', ' Distributed Systems', ' Docker', ' Encryption', ' Excel', ' Feature Extraction', ' Financial Services', ' Forecasting', ' Git', ' Github', ' Go', ' Google Cloud', ' GraphQL', ' HBase', ' Hadoop', ' Hypothesis testing', ' JSON', ' Java', ' Jira', ' Julia', ' Kafka', ' Keras', ' Kubernetes', ' Leadership', ' Linux', ' MATLAB', ' MLOps', ' Machine Learning', ' Machine Learning Algorithms', ' Machine learning frameworks', ' Marketing', ' Matplotlib', ' Microsoft SQL Server', ' MongoDB', ' MySQL', ' Natural Language Processing', ' NoSQL', ' NumPy', ' Pandas', ' Perl', ' Pig', ' Power BI', ' Predictive Analysis', ' Presentation Skills', ' Product Management', ' Project Leadership', ' Project Management', ' PyTorch', ' Python', ' Quantitative analysis', ' R', ' REST', ' Redshift', ' Regression Analysis', ' Reinforcement Learning', ' Research', ' Risk Management', ' SAS', ' SPSS', ' SQL', ' Sales', ' Scala', ' SciPy', ' Scikit-learn', ' Scripting', ' Seaborn', ' Snowflake', ' Software development', ' Spark', ' Statistical Analysis', ' Statistical Software', ' Statistics', ' Tableau', ' Team Management', ' TensorFlow', ' Unix', ' XML', 'AI', 'AWS', 'Accounting', 'Agile', 'Analytics', 'Azure', 'Banking', 'Big Data', 'Computer Science', 'Computer Vision', 'Data Analysis', 'Data Analytics', 'Data Mining', 'Data Visualization', 'Deep Learning', 'Distributed Systems', 'Docker', 'Excel', 'Forecasting', 'Git', 'Github', 'Go', 'Google Cloud', 'Julia', 'Leadership', 'MATLAB', 'Machine Learning', 'Machine learning frameworks', 'Marketing', 'Matplotlib', 'Natural Language Processing', 'Power BI', 'Presentation Skills', 'Project Management', 'Python', 'R', 'Regression Analysis', 'Research', 'Risk Management', 'SQL', 'Sales', 'Scripting', 'Software development', 'Spark', 'Tableau', 'TensorFlow', 'XML']\n"
     ]
    }
   ],
   "source": [
    "print(list(data.columns))"
   ]
  },
  {
   "cell_type": "code",
   "execution_count": 147,
   "metadata": {},
   "outputs": [
    {
     "data": {
      "text/plain": [
       " Python              0.546322\n",
       " Machine Learning    0.486376\n",
       " Statistics          0.449591\n",
       " SQL                 0.420981\n",
       " Analytics           0.415531\n",
       " Computer Science    0.382834\n",
       " Research            0.363760\n",
       " R                   0.311989\n",
       " Data Analysis       0.226158\n",
       " Leadership          0.204360\n",
       "dtype: float64"
      ]
     },
     "execution_count": 147,
     "metadata": {},
     "output_type": "execute_result"
    }
   ],
   "source": [
    "top_skills = skill_frenquency.sort_values(ascending=False).head(10)\n",
    "top_skills"
   ]
  },
  {
   "cell_type": "markdown",
   "metadata": {},
   "source": [
    "## Visualisation des Compétences les Plus Demandées"
   ]
  },
  {
   "cell_type": "code",
   "execution_count": 148,
   "metadata": {},
   "outputs": [
    {
     "name": "stderr",
     "output_type": "stream",
     "text": [
      "C:\\Users\\xelor\\AppData\\Local\\Temp\\ipykernel_7576\\765550516.py:3: FutureWarning: \n",
      "\n",
      "Passing `palette` without assigning `hue` is deprecated and will be removed in v0.14.0. Assign the `y` variable to `hue` and set `legend=False` for the same effect.\n",
      "\n",
      "  sns.barplot(x=top_skills.values, y=top_skills.index, palette='coolwarm')\n"
     ]
    },
    {
     "data": {
      "image/png": "[encoded data removed]",
      "text/plain": [
       "<Figure size 1000x600 with 1 Axes>"
      ]
     },
     "metadata": {},
     "output_type": "display_data"
    }
   ],
   "source": [
    "sns.set_theme(style=\"whitegrid\")\n",
    "plt.figure(figsize=(10, 6))\n",
    "sns.barplot(x=top_skills.values, y=top_skills.index, palette='coolwarm')\n",
    "plt.title('Top 10 des compétences les plus demandées')\n",
    "plt.xlabel('Nombre d\\'occurrences')\n",
    "plt.ylabel('Compétences')\n",
    "plt.show()"
   ]
  },
  {
   "cell_type": "markdown",
   "metadata": {},
   "source": [
    "## Scoring des Compétences, Niveaux d'Éducation et Expérience"
   ]
  },
  {
   "cell_type": "code",
   "execution_count": 149,
   "metadata": {},
   "outputs": [],
   "source": [
    "skill_scores = skill_frenquency ** 2"
   ]
  },
  {
   "cell_type": "code",
   "execution_count": 150,
   "metadata": {},
   "outputs": [],
   "source": [
    "# Ensure the skill_scores index matches the columns of skills_dummies\n",
    "skill_scores = skill_scores.reindex(skills_dummies.columns, fill_value=0)\n",
    "\n",
    "# Calculate the Skills Score\n",
    "data['Skills Score'] = skills_dummies.dot(skill_scores)\n"
   ]
  },
  {
   "cell_type": "code",
   "execution_count": 151,
   "metadata": {},
   "outputs": [],
   "source": [
    "max_score_skill = skill_scores.sum()"
   ]
  },
  {
   "cell_type": "code",
   "execution_count": 152,
   "metadata": {},
   "outputs": [],
   "source": [
    "data['Skills Score'] = data['Skills Score'] / max_score_skill"
   ]
  },
  {
   "cell_type": "code",
   "execution_count": 153,
   "metadata": {},
   "outputs": [],
   "source": [
    "diversity_bonus = skills_dummies.sum(axis=1) / len(skill_scores)"
   ]
  },
  {
   "cell_type": "code",
   "execution_count": 154,
   "metadata": {},
   "outputs": [],
   "source": [
    "data['Skills Score'] += (diversity_bonus * 0.1) * (data['Skills Score'] > 0)"
   ]
  },
  {
   "cell_type": "code",
   "execution_count": 155,
   "metadata": {},
   "outputs": [],
   "source": [
    "# Scoring pondéré niveau d'éducation\n",
    "\n",
    "def education_score(row):\n",
    "    score = 0\n",
    "    if row['Has_Doctorate']:\n",
    "        score += 3\n",
    "    elif row['Has_Master']:\n",
    "        score += 2\n",
    "    elif row['Has_Bachelor']:\n",
    "        score += 1\n",
    "    \n",
    "    # Bonus pour les cas où le niveau idéal est atteint\n",
    "    if row['Ideal_Level'] == 'Doctorate' and row['Has_Doctorate']:\n",
    "        score += 1 \n",
    "    elif row['Ideal_Level'] == 'Master' and row['Has_Master']:\n",
    "        score += 0.5\n",
    "\n",
    "    return score"
   ]
  },
  {
   "cell_type": "code",
   "execution_count": 156,
   "metadata": {},
   "outputs": [],
   "source": [
    "# Score Education\n",
    "data['Education Score'] = data.apply(education_score, axis=1)\n",
    "\n",
    "# Normalisation\n",
    "data['Education Score'] = data['Education Score'] / 4"
   ]
  },
  {
   "cell_type": "code",
   "execution_count": 157,
   "metadata": {},
   "outputs": [],
   "source": [
    "# Poids\n",
    "def experience_level(x):\n",
    "    if x <= 5:\n",
    "        return 1  # Junior\n",
    "    elif x <= 10:\n",
    "        return 2  # Mid-Level\n",
    "    else:\n",
    "        return 3  # Senior"
   ]
  },
  {
   "cell_type": "code",
   "execution_count": 158,
   "metadata": {},
   "outputs": [],
   "source": [
    "# Score Experience\n",
    "data['Experience Score'] = data['Years of Experience'].apply(experience_level)\n",
    "\n",
    "# Normalisation\n",
    "data['Experience Score'] = data['Experience Score'] / 3"
   ]
  },
  {
   "cell_type": "code",
   "execution_count": 159,
   "metadata": {},
   "outputs": [
    {
     "data": {
      "text/html": [
       "<div>\n",
       "<style scoped>\n",
       "    .dataframe tbody tr th:only-of-type {\n",
       "        vertical-align: middle;\n",
       "    }\n",
       "\n",
       "    .dataframe tbody tr th {\n",
       "        vertical-align: top;\n",
       "    }\n",
       "\n",
       "    .dataframe thead th {\n",
       "        text-align: right;\n",
       "    }\n",
       "</style>\n",
       "<table border=\"1\" class=\"dataframe\">\n",
       "  <thead>\n",
       "    <tr style=\"text-align: right;\">\n",
       "      <th></th>\n",
       "      <th>Job Title</th>\n",
       "      <th>Company Name</th>\n",
       "      <th>Location</th>\n",
       "      <th>Skills</th>\n",
       "      <th>Years of Experience</th>\n",
       "      <th>Education</th>\n",
       "      <th>Job Type</th>\n",
       "      <th>Salary</th>\n",
       "      <th>Has_Bachelor</th>\n",
       "      <th>Has_Master</th>\n",
       "      <th>...</th>\n",
       "      <th>Sales</th>\n",
       "      <th>Scripting</th>\n",
       "      <th>Software development</th>\n",
       "      <th>Spark</th>\n",
       "      <th>Tableau</th>\n",
       "      <th>TensorFlow</th>\n",
       "      <th>XML</th>\n",
       "      <th>Skills Score</th>\n",
       "      <th>Education Score</th>\n",
       "      <th>Experience Score</th>\n",
       "    </tr>\n",
       "  </thead>\n",
       "  <tbody>\n",
       "    <tr>\n",
       "      <th>0</th>\n",
       "      <td>Data Scientist</td>\n",
       "      <td>DTN</td>\n",
       "      <td>Remote</td>\n",
       "      <td>Machine Learning, Pandas, Analytics, Software ...</td>\n",
       "      <td>2</td>\n",
       "      <td>Master</td>\n",
       "      <td>Full-time</td>\n",
       "      <td>94;500 - 115;500 a year</td>\n",
       "      <td>0</td>\n",
       "      <td>1</td>\n",
       "      <td>...</td>\n",
       "      <td>0</td>\n",
       "      <td>0</td>\n",
       "      <td>0</td>\n",
       "      <td>0</td>\n",
       "      <td>0</td>\n",
       "      <td>0</td>\n",
       "      <td>0</td>\n",
       "      <td>0.343558</td>\n",
       "      <td>0.625</td>\n",
       "      <td>0.333333</td>\n",
       "    </tr>\n",
       "    <tr>\n",
       "      <th>1</th>\n",
       "      <td>Data Scientist</td>\n",
       "      <td>Generac Power Systems</td>\n",
       "      <td>Pewaukee; WI 53188</td>\n",
       "      <td>Power BI, Data Visualization, Computer Science...</td>\n",
       "      <td>3</td>\n",
       "      <td>Master; Bachelor</td>\n",
       "      <td>Full-time</td>\n",
       "      <td>136000.0</td>\n",
       "      <td>1</td>\n",
       "      <td>1</td>\n",
       "      <td>...</td>\n",
       "      <td>0</td>\n",
       "      <td>0</td>\n",
       "      <td>0</td>\n",
       "      <td>0</td>\n",
       "      <td>0</td>\n",
       "      <td>0</td>\n",
       "      <td>0</td>\n",
       "      <td>0.773775</td>\n",
       "      <td>0.625</td>\n",
       "      <td>0.333333</td>\n",
       "    </tr>\n",
       "    <tr>\n",
       "      <th>2</th>\n",
       "      <td>Data Scientist</td>\n",
       "      <td>Big Lots</td>\n",
       "      <td>Columbus; OH 43081  (Albany Commons area)</td>\n",
       "      <td>Data Mining, Computer Science, Data Structures...</td>\n",
       "      <td>0</td>\n",
       "      <td>Master; Bachelor</td>\n",
       "      <td>Full-time</td>\n",
       "      <td>136000.0</td>\n",
       "      <td>1</td>\n",
       "      <td>1</td>\n",
       "      <td>...</td>\n",
       "      <td>0</td>\n",
       "      <td>0</td>\n",
       "      <td>0</td>\n",
       "      <td>0</td>\n",
       "      <td>0</td>\n",
       "      <td>0</td>\n",
       "      <td>0</td>\n",
       "      <td>0.621591</td>\n",
       "      <td>0.625</td>\n",
       "      <td>0.333333</td>\n",
       "    </tr>\n",
       "    <tr>\n",
       "      <th>3</th>\n",
       "      <td>Data Scientist (Data Scientist 1)</td>\n",
       "      <td>HII</td>\n",
       "      <td>Remote in Alexandria; VA</td>\n",
       "      <td>Data Mining, Machine Learning, Project Managem...</td>\n",
       "      <td>4</td>\n",
       "      <td>Bachelor</td>\n",
       "      <td>Full-time</td>\n",
       "      <td>136000.0</td>\n",
       "      <td>1</td>\n",
       "      <td>0</td>\n",
       "      <td>...</td>\n",
       "      <td>0</td>\n",
       "      <td>0</td>\n",
       "      <td>0</td>\n",
       "      <td>0</td>\n",
       "      <td>0</td>\n",
       "      <td>0</td>\n",
       "      <td>0</td>\n",
       "      <td>0.153763</td>\n",
       "      <td>0.250</td>\n",
       "      <td>0.333333</td>\n",
       "    </tr>\n",
       "    <tr>\n",
       "      <th>4</th>\n",
       "      <td>Data Scientist</td>\n",
       "      <td>Microsoft</td>\n",
       "      <td>Atlanta; GA</td>\n",
       "      <td>Data Mining, Forecasting, Computer Science, AP...</td>\n",
       "      <td>2</td>\n",
       "      <td>Doctorate; Master; Bachelor</td>\n",
       "      <td>Full-time</td>\n",
       "      <td>98;300 - 193;200 a year</td>\n",
       "      <td>1</td>\n",
       "      <td>1</td>\n",
       "      <td>...</td>\n",
       "      <td>0</td>\n",
       "      <td>0</td>\n",
       "      <td>0</td>\n",
       "      <td>0</td>\n",
       "      <td>0</td>\n",
       "      <td>0</td>\n",
       "      <td>0</td>\n",
       "      <td>0.727107</td>\n",
       "      <td>1.000</td>\n",
       "      <td>0.333333</td>\n",
       "    </tr>\n",
       "  </tbody>\n",
       "</table>\n",
       "<p>5 rows × 166 columns</p>\n",
       "</div>"
      ],
      "text/plain": [
       "                           Job Title           Company Name  \\\n",
       "0                     Data Scientist                    DTN   \n",
       "1                     Data Scientist  Generac Power Systems   \n",
       "2                     Data Scientist               Big Lots   \n",
       "3  Data Scientist (Data Scientist 1)                    HII   \n",
       "4                     Data Scientist              Microsoft   \n",
       "\n",
       "                                    Location  \\\n",
       "0                                     Remote   \n",
       "1                         Pewaukee; WI 53188   \n",
       "2  Columbus; OH 43081  (Albany Commons area)   \n",
       "3                   Remote in Alexandria; VA   \n",
       "4                                Atlanta; GA   \n",
       "\n",
       "                                              Skills  Years of Experience  \\\n",
       "0  Machine Learning, Pandas, Analytics, Software ...                    2   \n",
       "1  Power BI, Data Visualization, Computer Science...                    3   \n",
       "2  Data Mining, Computer Science, Data Structures...                    0   \n",
       "3  Data Mining, Machine Learning, Project Managem...                    4   \n",
       "4  Data Mining, Forecasting, Computer Science, AP...                    2   \n",
       "\n",
       "                     Education   Job Type                   Salary  \\\n",
       "0                       Master  Full-time  94;500 - 115;500 a year   \n",
       "1             Master; Bachelor  Full-time                 136000.0   \n",
       "2             Master; Bachelor  Full-time                 136000.0   \n",
       "3                     Bachelor  Full-time                 136000.0   \n",
       "4  Doctorate; Master; Bachelor  Full-time  98;300 - 193;200 a year   \n",
       "\n",
       "   Has_Bachelor  Has_Master  ...  Sales Scripting Software development  Spark  \\\n",
       "0             0           1  ...      0         0                    0      0   \n",
       "1             1           1  ...      0         0                    0      0   \n",
       "2             1           1  ...      0         0                    0      0   \n",
       "3             1           0  ...      0         0                    0      0   \n",
       "4             1           1  ...      0         0                    0      0   \n",
       "\n",
       "   Tableau  TensorFlow  XML  Skills Score  Education Score  Experience Score  \n",
       "0        0           0    0      0.343558            0.625          0.333333  \n",
       "1        0           0    0      0.773775            0.625          0.333333  \n",
       "2        0           0    0      0.621591            0.625          0.333333  \n",
       "3        0           0    0      0.153763            0.250          0.333333  \n",
       "4        0           0    0      0.727107            1.000          0.333333  \n",
       "\n",
       "[5 rows x 166 columns]"
      ]
     },
     "execution_count": 159,
     "metadata": {},
     "output_type": "execute_result"
    }
   ],
   "source": [
    "data.head()"
   ]
  },
  {
   "cell_type": "markdown",
   "metadata": {},
   "source": [
    "## Calcul du Score d'Employabilité"
   ]
  },
  {
   "cell_type": "code",
   "execution_count": 160,
   "metadata": {},
   "outputs": [],
   "source": [
    "# Scoing Emploiyabilité\n",
    "\n",
    "# Compétences (Skills Score) : 50%\n",
    "# Années d'Expérience (Experience Score) : 30%\n",
    "# Niveau d'Éducation (Education Score) : 20%\n",
    "# Des poids donnés selon l'importance\n",
    "\n",
    "# Poids\n",
    "data['Employability Score'] = (data['Skills Score'] * 0.5 + \n",
    "                               data['Experience Score'] * 0.3 + \n",
    "                               data['Education Score'] * 0.2)"
   ]
  },
  {
   "cell_type": "code",
   "execution_count": 161,
   "metadata": {},
   "outputs": [],
   "source": [
    "# Normalisation \n",
    "max_score_emp = data['Employability Score'].max()"
   ]
  },
  {
   "cell_type": "code",
   "execution_count": 162,
   "metadata": {},
   "outputs": [],
   "source": [
    "data['Employability Score'] = data['Employability Score'] / max_score_emp"
   ]
  },
  {
   "cell_type": "code",
   "execution_count": 163,
   "metadata": {},
   "outputs": [
    {
     "data": {
      "text/html": [
       "<div>\n",
       "<style scoped>\n",
       "    .dataframe tbody tr th:only-of-type {\n",
       "        vertical-align: middle;\n",
       "    }\n",
       "\n",
       "    .dataframe tbody tr th {\n",
       "        vertical-align: top;\n",
       "    }\n",
       "\n",
       "    .dataframe thead th {\n",
       "        text-align: right;\n",
       "    }\n",
       "</style>\n",
       "<table border=\"1\" class=\"dataframe\">\n",
       "  <thead>\n",
       "    <tr style=\"text-align: right;\">\n",
       "      <th></th>\n",
       "      <th>Job Title</th>\n",
       "      <th>Company Name</th>\n",
       "      <th>Location</th>\n",
       "      <th>Skills</th>\n",
       "      <th>Years of Experience</th>\n",
       "      <th>Education</th>\n",
       "      <th>Job Type</th>\n",
       "      <th>Salary</th>\n",
       "      <th>Has_Bachelor</th>\n",
       "      <th>Has_Master</th>\n",
       "      <th>...</th>\n",
       "      <th>Scripting</th>\n",
       "      <th>Software development</th>\n",
       "      <th>Spark</th>\n",
       "      <th>Tableau</th>\n",
       "      <th>TensorFlow</th>\n",
       "      <th>XML</th>\n",
       "      <th>Skills Score</th>\n",
       "      <th>Education Score</th>\n",
       "      <th>Experience Score</th>\n",
       "      <th>Employability Score</th>\n",
       "    </tr>\n",
       "  </thead>\n",
       "  <tbody>\n",
       "    <tr>\n",
       "      <th>0</th>\n",
       "      <td>Data Scientist</td>\n",
       "      <td>DTN</td>\n",
       "      <td>Remote</td>\n",
       "      <td>Machine Learning, Pandas, Analytics, Software ...</td>\n",
       "      <td>2</td>\n",
       "      <td>Master</td>\n",
       "      <td>Full-time</td>\n",
       "      <td>94;500 - 115;500 a year</td>\n",
       "      <td>0</td>\n",
       "      <td>1</td>\n",
       "      <td>...</td>\n",
       "      <td>0</td>\n",
       "      <td>0</td>\n",
       "      <td>0</td>\n",
       "      <td>0</td>\n",
       "      <td>0</td>\n",
       "      <td>0</td>\n",
       "      <td>0.343558</td>\n",
       "      <td>0.625</td>\n",
       "      <td>0.333333</td>\n",
       "      <td>0.445527</td>\n",
       "    </tr>\n",
       "    <tr>\n",
       "      <th>1</th>\n",
       "      <td>Data Scientist</td>\n",
       "      <td>Generac Power Systems</td>\n",
       "      <td>Pewaukee; WI 53188</td>\n",
       "      <td>Power BI, Data Visualization, Computer Science...</td>\n",
       "      <td>3</td>\n",
       "      <td>Master; Bachelor</td>\n",
       "      <td>Full-time</td>\n",
       "      <td>136000.0</td>\n",
       "      <td>1</td>\n",
       "      <td>1</td>\n",
       "      <td>...</td>\n",
       "      <td>0</td>\n",
       "      <td>0</td>\n",
       "      <td>0</td>\n",
       "      <td>0</td>\n",
       "      <td>0</td>\n",
       "      <td>0</td>\n",
       "      <td>0.773775</td>\n",
       "      <td>0.625</td>\n",
       "      <td>0.333333</td>\n",
       "      <td>0.687064</td>\n",
       "    </tr>\n",
       "    <tr>\n",
       "      <th>2</th>\n",
       "      <td>Data Scientist</td>\n",
       "      <td>Big Lots</td>\n",
       "      <td>Columbus; OH 43081  (Albany Commons area)</td>\n",
       "      <td>Data Mining, Computer Science, Data Structures...</td>\n",
       "      <td>0</td>\n",
       "      <td>Master; Bachelor</td>\n",
       "      <td>Full-time</td>\n",
       "      <td>136000.0</td>\n",
       "      <td>1</td>\n",
       "      <td>1</td>\n",
       "      <td>...</td>\n",
       "      <td>0</td>\n",
       "      <td>0</td>\n",
       "      <td>0</td>\n",
       "      <td>0</td>\n",
       "      <td>0</td>\n",
       "      <td>0</td>\n",
       "      <td>0.621591</td>\n",
       "      <td>0.625</td>\n",
       "      <td>0.333333</td>\n",
       "      <td>0.601624</td>\n",
       "    </tr>\n",
       "    <tr>\n",
       "      <th>3</th>\n",
       "      <td>Data Scientist (Data Scientist 1)</td>\n",
       "      <td>HII</td>\n",
       "      <td>Remote in Alexandria; VA</td>\n",
       "      <td>Data Mining, Machine Learning, Project Managem...</td>\n",
       "      <td>4</td>\n",
       "      <td>Bachelor</td>\n",
       "      <td>Full-time</td>\n",
       "      <td>136000.0</td>\n",
       "      <td>1</td>\n",
       "      <td>0</td>\n",
       "      <td>...</td>\n",
       "      <td>0</td>\n",
       "      <td>0</td>\n",
       "      <td>0</td>\n",
       "      <td>0</td>\n",
       "      <td>0</td>\n",
       "      <td>0</td>\n",
       "      <td>0.153763</td>\n",
       "      <td>0.250</td>\n",
       "      <td>0.333333</td>\n",
       "      <td>0.254756</td>\n",
       "    </tr>\n",
       "    <tr>\n",
       "      <th>4</th>\n",
       "      <td>Data Scientist</td>\n",
       "      <td>Microsoft</td>\n",
       "      <td>Atlanta; GA</td>\n",
       "      <td>Data Mining, Forecasting, Computer Science, AP...</td>\n",
       "      <td>2</td>\n",
       "      <td>Doctorate; Master; Bachelor</td>\n",
       "      <td>Full-time</td>\n",
       "      <td>98;300 - 193;200 a year</td>\n",
       "      <td>1</td>\n",
       "      <td>1</td>\n",
       "      <td>...</td>\n",
       "      <td>0</td>\n",
       "      <td>0</td>\n",
       "      <td>0</td>\n",
       "      <td>0</td>\n",
       "      <td>0</td>\n",
       "      <td>0</td>\n",
       "      <td>0.727107</td>\n",
       "      <td>1.000</td>\n",
       "      <td>0.333333</td>\n",
       "      <td>0.745078</td>\n",
       "    </tr>\n",
       "  </tbody>\n",
       "</table>\n",
       "<p>5 rows × 167 columns</p>\n",
       "</div>"
      ],
      "text/plain": [
       "                           Job Title           Company Name  \\\n",
       "0                     Data Scientist                    DTN   \n",
       "1                     Data Scientist  Generac Power Systems   \n",
       "2                     Data Scientist               Big Lots   \n",
       "3  Data Scientist (Data Scientist 1)                    HII   \n",
       "4                     Data Scientist              Microsoft   \n",
       "\n",
       "                                    Location  \\\n",
       "0                                     Remote   \n",
       "1                         Pewaukee; WI 53188   \n",
       "2  Columbus; OH 43081  (Albany Commons area)   \n",
       "3                   Remote in Alexandria; VA   \n",
       "4                                Atlanta; GA   \n",
       "\n",
       "                                              Skills  Years of Experience  \\\n",
       "0  Machine Learning, Pandas, Analytics, Software ...                    2   \n",
       "1  Power BI, Data Visualization, Computer Science...                    3   \n",
       "2  Data Mining, Computer Science, Data Structures...                    0   \n",
       "3  Data Mining, Machine Learning, Project Managem...                    4   \n",
       "4  Data Mining, Forecasting, Computer Science, AP...                    2   \n",
       "\n",
       "                     Education   Job Type                   Salary  \\\n",
       "0                       Master  Full-time  94;500 - 115;500 a year   \n",
       "1             Master; Bachelor  Full-time                 136000.0   \n",
       "2             Master; Bachelor  Full-time                 136000.0   \n",
       "3                     Bachelor  Full-time                 136000.0   \n",
       "4  Doctorate; Master; Bachelor  Full-time  98;300 - 193;200 a year   \n",
       "\n",
       "   Has_Bachelor  Has_Master  ...  Scripting Software development Spark  \\\n",
       "0             0           1  ...          0                    0     0   \n",
       "1             1           1  ...          0                    0     0   \n",
       "2             1           1  ...          0                    0     0   \n",
       "3             1           0  ...          0                    0     0   \n",
       "4             1           1  ...          0                    0     0   \n",
       "\n",
       "   Tableau  TensorFlow  XML  Skills Score  Education Score  Experience Score  \\\n",
       "0        0           0    0      0.343558            0.625          0.333333   \n",
       "1        0           0    0      0.773775            0.625          0.333333   \n",
       "2        0           0    0      0.621591            0.625          0.333333   \n",
       "3        0           0    0      0.153763            0.250          0.333333   \n",
       "4        0           0    0      0.727107            1.000          0.333333   \n",
       "\n",
       "   Employability Score  \n",
       "0             0.445527  \n",
       "1             0.687064  \n",
       "2             0.601624  \n",
       "3             0.254756  \n",
       "4             0.745078  \n",
       "\n",
       "[5 rows x 167 columns]"
      ]
     },
     "execution_count": 163,
     "metadata": {},
     "output_type": "execute_result"
    }
   ],
   "source": [
    "data.head()"
   ]
  },
  {
   "cell_type": "markdown",
   "metadata": {},
   "source": [
    "## Visualisation des Scores"
   ]
  },
  {
   "cell_type": "code",
   "execution_count": 164,
   "metadata": {},
   "outputs": [
    {
     "data": {
      "image/png": "[encoded data removed]",
      "text/plain": [
       "<Figure size 800x400 with 1 Axes>"
      ]
     },
     "metadata": {},
     "output_type": "display_data"
    },
    {
     "data": {
      "image/png": "[encoded data removed]",
      "text/plain": [
       "<Figure size 800x400 with 1 Axes>"
      ]
     },
     "metadata": {},
     "output_type": "display_data"
    },
    {
     "data": {
      "image/png": "[encoded data removed]",
      "text/plain": [
       "<Figure size 800x400 with 1 Axes>"
      ]
     },
     "metadata": {},
     "output_type": "display_data"
    },
    {
     "data": {
      "image/png": "[encoded data removed]",
      "text/plain": [
       "<Figure size 800x400 with 1 Axes>"
      ]
     },
     "metadata": {},
     "output_type": "display_data"
    }
   ],
   "source": [
    "sns.set_theme(style=\"whitegrid\")\n",
    "for column in ['Skills Score', 'Experience Score', 'Education Score', 'Employability Score']:\n",
    "    plt.figure(figsize=(8, 4))\n",
    "    sns.histplot(data[column], bins=20, kde=True)\n",
    "    plt.title(f'Distribution of {column}')\n",
    "    plt.xlabel(column)\n",
    "    plt.ylabel('Frequency')\n",
    "    plt.show()"
   ]
  },
  {
   "cell_type": "markdown",
   "metadata": {},
   "source": [
    "## Création de la Variable Cible"
   ]
  },
  {
   "cell_type": "code",
   "execution_count": 165,
   "metadata": {},
   "outputs": [],
   "source": [
    "employability_scores = data['Employability Score']"
   ]
  },
  {
   "cell_type": "code",
   "execution_count": 166,
   "metadata": {},
   "outputs": [
    {
     "data": {
      "image/png": "[encoded data removed]",
      "text/plain": [
       "<Figure size 1000x600 with 1 Axes>"
      ]
     },
     "metadata": {},
     "output_type": "display_data"
    }
   ],
   "source": [
    "sns.set_theme(style=\"whitegrid\", palette=\"pastel\", font_scale=1.2)\n",
    "plt.figure(figsize=(10, 6))\n",
    "box = sns.boxplot(x=employability_scores, width=0.5, fliersize=5, color='skyblue')\n",
    "median = employability_scores.median()\n",
    "plt.axvline(x=median, color='red', linestyle='--', label='Médiane')\n",
    "plt.axvline(x=employability_scores.quantile(0.25), color='orange', linestyle='--', label='1er Quartile')\n",
    "plt.axvline(x=employability_scores.quantile(0.75), color='green', linestyle='--', label='3ème Quartile')\n",
    "plt.title('Répartition du Score d\\'Employabilité', fontsize=16)\n",
    "plt.xlabel('Score d\\'Employabilité', fontsize=14)\n",
    "plt.ylabel('')\n",
    "plt.legend()\n",
    "plt.show()"
   ]
  },
  {
   "cell_type": "code",
   "execution_count": 167,
   "metadata": {},
   "outputs": [],
   "source": [
    "# le premier quartile comme seuil\n",
    "seuil = data['Employability Score'].quantile(0.5) # pour ne pas être très seléctif on choisit le premier quartile\n",
    "\n",
    "# Les scores >= seuil sont employables (1)\n",
    "# Les scores < seuil sont non employables (0)\n",
    "data['Employability'] = (data['Employability Score'] >= seuil).astype(int)"
   ]
  },
  {
   "cell_type": "code",
   "execution_count": 168,
   "metadata": {},
   "outputs": [
    {
     "data": {
      "text/html": [
       "<div>\n",
       "<style scoped>\n",
       "    .dataframe tbody tr th:only-of-type {\n",
       "        vertical-align: middle;\n",
       "    }\n",
       "\n",
       "    .dataframe tbody tr th {\n",
       "        vertical-align: top;\n",
       "    }\n",
       "\n",
       "    .dataframe thead th {\n",
       "        text-align: right;\n",
       "    }\n",
       "</style>\n",
       "<table border=\"1\" class=\"dataframe\">\n",
       "  <thead>\n",
       "    <tr style=\"text-align: right;\">\n",
       "      <th></th>\n",
       "      <th>Job Title</th>\n",
       "      <th>Company Name</th>\n",
       "      <th>Location</th>\n",
       "      <th>Skills</th>\n",
       "      <th>Years of Experience</th>\n",
       "      <th>Education</th>\n",
       "      <th>Job Type</th>\n",
       "      <th>Salary</th>\n",
       "      <th>Has_Bachelor</th>\n",
       "      <th>Has_Master</th>\n",
       "      <th>...</th>\n",
       "      <th>Software development</th>\n",
       "      <th>Spark</th>\n",
       "      <th>Tableau</th>\n",
       "      <th>TensorFlow</th>\n",
       "      <th>XML</th>\n",
       "      <th>Skills Score</th>\n",
       "      <th>Education Score</th>\n",
       "      <th>Experience Score</th>\n",
       "      <th>Employability Score</th>\n",
       "      <th>Employability</th>\n",
       "    </tr>\n",
       "  </thead>\n",
       "  <tbody>\n",
       "    <tr>\n",
       "      <th>0</th>\n",
       "      <td>Data Scientist</td>\n",
       "      <td>DTN</td>\n",
       "      <td>Remote</td>\n",
       "      <td>Machine Learning, Pandas, Analytics, Software ...</td>\n",
       "      <td>2</td>\n",
       "      <td>Master</td>\n",
       "      <td>Full-time</td>\n",
       "      <td>94;500 - 115;500 a year</td>\n",
       "      <td>0</td>\n",
       "      <td>1</td>\n",
       "      <td>...</td>\n",
       "      <td>0</td>\n",
       "      <td>0</td>\n",
       "      <td>0</td>\n",
       "      <td>0</td>\n",
       "      <td>0</td>\n",
       "      <td>0.343558</td>\n",
       "      <td>0.625</td>\n",
       "      <td>0.333333</td>\n",
       "      <td>0.445527</td>\n",
       "      <td>0</td>\n",
       "    </tr>\n",
       "    <tr>\n",
       "      <th>1</th>\n",
       "      <td>Data Scientist</td>\n",
       "      <td>Generac Power Systems</td>\n",
       "      <td>Pewaukee; WI 53188</td>\n",
       "      <td>Power BI, Data Visualization, Computer Science...</td>\n",
       "      <td>3</td>\n",
       "      <td>Master; Bachelor</td>\n",
       "      <td>Full-time</td>\n",
       "      <td>136000.0</td>\n",
       "      <td>1</td>\n",
       "      <td>1</td>\n",
       "      <td>...</td>\n",
       "      <td>0</td>\n",
       "      <td>0</td>\n",
       "      <td>0</td>\n",
       "      <td>0</td>\n",
       "      <td>0</td>\n",
       "      <td>0.773775</td>\n",
       "      <td>0.625</td>\n",
       "      <td>0.333333</td>\n",
       "      <td>0.687064</td>\n",
       "      <td>1</td>\n",
       "    </tr>\n",
       "    <tr>\n",
       "      <th>2</th>\n",
       "      <td>Data Scientist</td>\n",
       "      <td>Big Lots</td>\n",
       "      <td>Columbus; OH 43081  (Albany Commons area)</td>\n",
       "      <td>Data Mining, Computer Science, Data Structures...</td>\n",
       "      <td>0</td>\n",
       "      <td>Master; Bachelor</td>\n",
       "      <td>Full-time</td>\n",
       "      <td>136000.0</td>\n",
       "      <td>1</td>\n",
       "      <td>1</td>\n",
       "      <td>...</td>\n",
       "      <td>0</td>\n",
       "      <td>0</td>\n",
       "      <td>0</td>\n",
       "      <td>0</td>\n",
       "      <td>0</td>\n",
       "      <td>0.621591</td>\n",
       "      <td>0.625</td>\n",
       "      <td>0.333333</td>\n",
       "      <td>0.601624</td>\n",
       "      <td>1</td>\n",
       "    </tr>\n",
       "    <tr>\n",
       "      <th>3</th>\n",
       "      <td>Data Scientist (Data Scientist 1)</td>\n",
       "      <td>HII</td>\n",
       "      <td>Remote in Alexandria; VA</td>\n",
       "      <td>Data Mining, Machine Learning, Project Managem...</td>\n",
       "      <td>4</td>\n",
       "      <td>Bachelor</td>\n",
       "      <td>Full-time</td>\n",
       "      <td>136000.0</td>\n",
       "      <td>1</td>\n",
       "      <td>0</td>\n",
       "      <td>...</td>\n",
       "      <td>0</td>\n",
       "      <td>0</td>\n",
       "      <td>0</td>\n",
       "      <td>0</td>\n",
       "      <td>0</td>\n",
       "      <td>0.153763</td>\n",
       "      <td>0.250</td>\n",
       "      <td>0.333333</td>\n",
       "      <td>0.254756</td>\n",
       "      <td>0</td>\n",
       "    </tr>\n",
       "    <tr>\n",
       "      <th>4</th>\n",
       "      <td>Data Scientist</td>\n",
       "      <td>Microsoft</td>\n",
       "      <td>Atlanta; GA</td>\n",
       "      <td>Data Mining, Forecasting, Computer Science, AP...</td>\n",
       "      <td>2</td>\n",
       "      <td>Doctorate; Master; Bachelor</td>\n",
       "      <td>Full-time</td>\n",
       "      <td>98;300 - 193;200 a year</td>\n",
       "      <td>1</td>\n",
       "      <td>1</td>\n",
       "      <td>...</td>\n",
       "      <td>0</td>\n",
       "      <td>0</td>\n",
       "      <td>0</td>\n",
       "      <td>0</td>\n",
       "      <td>0</td>\n",
       "      <td>0.727107</td>\n",
       "      <td>1.000</td>\n",
       "      <td>0.333333</td>\n",
       "      <td>0.745078</td>\n",
       "      <td>1</td>\n",
       "    </tr>\n",
       "  </tbody>\n",
       "</table>\n",
       "<p>5 rows × 168 columns</p>\n",
       "</div>"
      ],
      "text/plain": [
       "                           Job Title           Company Name  \\\n",
       "0                     Data Scientist                    DTN   \n",
       "1                     Data Scientist  Generac Power Systems   \n",
       "2                     Data Scientist               Big Lots   \n",
       "3  Data Scientist (Data Scientist 1)                    HII   \n",
       "4                     Data Scientist              Microsoft   \n",
       "\n",
       "                                    Location  \\\n",
       "0                                     Remote   \n",
       "1                         Pewaukee; WI 53188   \n",
       "2  Columbus; OH 43081  (Albany Commons area)   \n",
       "3                   Remote in Alexandria; VA   \n",
       "4                                Atlanta; GA   \n",
       "\n",
       "                                              Skills  Years of Experience  \\\n",
       "0  Machine Learning, Pandas, Analytics, Software ...                    2   \n",
       "1  Power BI, Data Visualization, Computer Science...                    3   \n",
       "2  Data Mining, Computer Science, Data Structures...                    0   \n",
       "3  Data Mining, Machine Learning, Project Managem...                    4   \n",
       "4  Data Mining, Forecasting, Computer Science, AP...                    2   \n",
       "\n",
       "                     Education   Job Type                   Salary  \\\n",
       "0                       Master  Full-time  94;500 - 115;500 a year   \n",
       "1             Master; Bachelor  Full-time                 136000.0   \n",
       "2             Master; Bachelor  Full-time                 136000.0   \n",
       "3                     Bachelor  Full-time                 136000.0   \n",
       "4  Doctorate; Master; Bachelor  Full-time  98;300 - 193;200 a year   \n",
       "\n",
       "   Has_Bachelor  Has_Master  ...  Software development Spark Tableau  \\\n",
       "0             0           1  ...                     0     0       0   \n",
       "1             1           1  ...                     0     0       0   \n",
       "2             1           1  ...                     0     0       0   \n",
       "3             1           0  ...                     0     0       0   \n",
       "4             1           1  ...                     0     0       0   \n",
       "\n",
       "   TensorFlow  XML  Skills Score  Education Score  Experience Score  \\\n",
       "0           0    0      0.343558            0.625          0.333333   \n",
       "1           0    0      0.773775            0.625          0.333333   \n",
       "2           0    0      0.621591            0.625          0.333333   \n",
       "3           0    0      0.153763            0.250          0.333333   \n",
       "4           0    0      0.727107            1.000          0.333333   \n",
       "\n",
       "   Employability Score  Employability  \n",
       "0             0.445527              0  \n",
       "1             0.687064              1  \n",
       "2             0.601624              1  \n",
       "3             0.254756              0  \n",
       "4             0.745078              1  \n",
       "\n",
       "[5 rows x 168 columns]"
      ]
     },
     "execution_count": 168,
     "metadata": {},
     "output_type": "execute_result"
    }
   ],
   "source": [
    "data.head()"
   ]
  },
  {
   "cell_type": "code",
   "execution_count": 169,
   "metadata": {},
   "outputs": [
    {
     "name": "stdout",
     "output_type": "stream",
     "text": [
      "Job Title                                                 Data Scientist\n",
      "Company Name                                                         DTN\n",
      "Location                                                          Remote\n",
      "Skills                 Machine Learning, Pandas, Analytics, Software ...\n",
      "Years of Experience                                                    2\n",
      "                                             ...                        \n",
      "Skills Score                                                    0.343558\n",
      "Education Score                                                    0.625\n",
      "Experience Score                                                0.333333\n",
      "Employability Score                                             0.445527\n",
      "Employability                                                          0\n",
      "Name: 0, Length: 168, dtype: object\n"
     ]
    }
   ],
   "source": [
    "print(data.iloc[0])"
   ]
  },
  {
   "cell_type": "markdown",
   "metadata": {},
   "source": [
    "## Séparation des Données en Enseignements d'Apprentissage et de Test"
   ]
  },
  {
   "cell_type": "code",
   "execution_count": 170,
   "metadata": {},
   "outputs": [],
   "source": [
    "X = data.drop(['Job Title', 'Company Name', \n",
    "               'Location', 'Skills', 'Education','Job Type' ,\n",
    "                'Salary', 'Experience Level', 'Ideal_Level',\n",
    "                'Skills Score', 'Education Score', 'Experience Score',\n",
    "                'Employability Score', 'Employability'], axis=1)\n",
    "\n",
    "y = data['Employability']"
   ]
  },
  {
   "cell_type": "code",
   "execution_count": 171,
   "metadata": {},
   "outputs": [],
   "source": [
    "X_train, X_test, y_train, y_test = train_test_split(X, y, test_size=0.2, random_state=42)"
   ]
  },
  {
   "cell_type": "markdown",
   "metadata": {},
   "source": [
    "## Configuration et Entraînement des Modèles avec GridSearchCV"
   ]
  },
  {
   "cell_type": "code",
   "execution_count": 172,
   "metadata": {},
   "outputs": [],
   "source": [
    "param_grid_knn = {\n",
    "    'n_neighbors': np.arange(1, 21, 2),\n",
    "    'weights': ['uniform', 'distance'],\n",
    "    'p': [1, 2]\n",
    "}\n",
    "\n",
    "param_grid_dt = {\n",
    "    'max_depth': np.arange(1, 21),\n",
    "    'min_samples_leaf': [1, 2, 4, 6, 8],\n",
    "    'min_samples_split': [2, 5, 10]\n",
    "}"
   ]
  },
  {
   "cell_type": "code",
   "execution_count": 173,
   "metadata": {},
   "outputs": [],
   "source": [
    "stratified_cv = StratifiedKFold(n_splits=5)"
   ]
  },
  {
   "cell_type": "code",
   "execution_count": 174,
   "metadata": {},
   "outputs": [],
   "source": [
    "grid_knn = GridSearchCV(KNeighborsClassifier(), param_grid_knn, cv=stratified_cv)\n",
    "grid_dt = GridSearchCV(DecisionTreeClassifier(), param_grid_dt, cv=stratified_cv)"
   ]
  },
  {
   "cell_type": "code",
   "execution_count": 175,
   "metadata": {},
   "outputs": [
    {
     "data": {
      "text/html": [
       "<style>#sk-container-id-2 {color: black;}#sk-container-id-2 pre{padding: 0;}#sk-container-id-2 div.sk-toggleable {background-color: white;}#sk-container-id-2 label.sk-toggleable__label {cursor: pointer;display: block;width: 100%;margin-bottom: 0;padding: 0.3em;box-sizing: border-box;text-align: center;}#sk-container-id-2 label.sk-toggleable__label-arrow:before {content: \"▸\";float: left;margin-right: 0.25em;color: #696969;}#sk-container-id-2 label.sk-toggleable__label-arrow:hover:before {color: black;}#sk-container-id-2 div.sk-estimator:hover label.sk-toggleable__label-arrow:before {color: black;}#sk-container-id-2 div.sk-toggleable__content {max-height: 0;max-width: 0;overflow: hidden;text-align: left;background-color: #f0f8ff;}#sk-container-id-2 div.sk-toggleable__content pre {margin: 0.2em;color: black;border-radius: 0.25em;background-color: #f0f8ff;}#sk-container-id-2 input.sk-toggleable__control:checked~div.sk-toggleable__content {max-height: 200px;max-width: 100%;overflow: auto;}#sk-container-id-2 input.sk-toggleable__control:checked~label.sk-toggleable__label-arrow:before {content: \"▾\";}#sk-container-id-2 div.sk-estimator input.sk-toggleable__control:checked~label.sk-toggleable__label {background-color: #d4ebff;}#sk-container-id-2 div.sk-label input.sk-toggleable__control:checked~label.sk-toggleable__label {background-color: #d4ebff;}#sk-container-id-2 input.sk-hidden--visually {border: 0;clip: rect(1px 1px 1px 1px);clip: rect(1px, 1px, 1px, 1px);height: 1px;margin: -1px;overflow: hidden;padding: 0;position: absolute;width: 1px;}#sk-container-id-2 div.sk-estimator {font-family: monospace;background-color: #f0f8ff;border: 1px dotted black;border-radius: 0.25em;box-sizing: border-box;margin-bottom: 0.5em;}#sk-container-id-2 div.sk-estimator:hover {background-color: #d4ebff;}#sk-container-id-2 div.sk-parallel-item::after {content: \"\";width: 100%;border-bottom: 1px solid gray;flex-grow: 1;}#sk-container-id-2 div.sk-label:hover label.sk-toggleable__label {background-color: #d4ebff;}#sk-container-id-2 div.sk-serial::before {content: \"\";position: absolute;border-left: 1px solid gray;box-sizing: border-box;top: 0;bottom: 0;left: 50%;z-index: 0;}#sk-container-id-2 div.sk-serial {display: flex;flex-direction: column;align-items: center;background-color: white;padding-right: 0.2em;padding-left: 0.2em;position: relative;}#sk-container-id-2 div.sk-item {position: relative;z-index: 1;}#sk-container-id-2 div.sk-parallel {display: flex;align-items: stretch;justify-content: center;background-color: white;position: relative;}#sk-container-id-2 div.sk-item::before, #sk-container-id-2 div.sk-parallel-item::before {content: \"\";position: absolute;border-left: 1px solid gray;box-sizing: border-box;top: 0;bottom: 0;left: 50%;z-index: -1;}#sk-container-id-2 div.sk-parallel-item {display: flex;flex-direction: column;z-index: 1;position: relative;background-color: white;}#sk-container-id-2 div.sk-parallel-item:first-child::after {align-self: flex-end;width: 50%;}#sk-container-id-2 div.sk-parallel-item:last-child::after {align-self: flex-start;width: 50%;}#sk-container-id-2 div.sk-parallel-item:only-child::after {width: 0;}#sk-container-id-2 div.sk-dashed-wrapped {border: 1px dashed gray;margin: 0 0.4em 0.5em 0.4em;box-sizing: border-box;padding-bottom: 0.4em;background-color: white;}#sk-container-id-2 div.sk-label label {font-family: monospace;font-weight: bold;display: inline-block;line-height: 1.2em;}#sk-container-id-2 div.sk-label-container {text-align: center;}#sk-container-id-2 div.sk-container {/* jupyter's `normalize.less` sets `[hidden] { display: none; }` but bootstrap.min.css set `[hidden] { display: none !important; }` so we also need the `!important` here to be able to override the default hidden behavior on the sphinx rendered scikit-learn.org. See: https://github.com/scikit-learn/scikit-learn/issues/21755 */display: inline-block !important;position: relative;}#sk-container-id-2 div.sk-text-repr-fallback {display: none;}</style><div id=\"sk-container-id-2\" class=\"sk-top-container\"><div class=\"sk-text-repr-fallback\"><pre>GridSearchCV(cv=StratifiedKFold(n_splits=5, random_state=None, shuffle=False),\n",
       "             estimator=DecisionTreeClassifier(),\n",
       "             param_grid={&#x27;max_depth&#x27;: array([ 1,  2,  3,  4,  5,  6,  7,  8,  9, 10, 11, 12, 13, 14, 15, 16, 17,\n",
       "       18, 19, 20]),\n",
       "                         &#x27;min_samples_leaf&#x27;: [1, 2, 4, 6, 8],\n",
       "                         &#x27;min_samples_split&#x27;: [2, 5, 10]})</pre><b>In a Jupyter environment, please rerun this cell to show the HTML representation or trust the notebook. <br />On GitHub, the HTML representation is unable to render, please try loading this page with nbviewer.org.</b></div><div class=\"sk-container\" hidden><div class=\"sk-item sk-dashed-wrapped\"><div class=\"sk-label-container\"><div class=\"sk-label sk-toggleable\"><input class=\"sk-toggleable__control sk-hidden--visually\" id=\"sk-estimator-id-4\" type=\"checkbox\" ><label for=\"sk-estimator-id-4\" class=\"sk-toggleable__label sk-toggleable__label-arrow\">GridSearchCV</label><div class=\"sk-toggleable__content\"><pre>GridSearchCV(cv=StratifiedKFold(n_splits=5, random_state=None, shuffle=False),\n",
       "             estimator=DecisionTreeClassifier(),\n",
       "             param_grid={&#x27;max_depth&#x27;: array([ 1,  2,  3,  4,  5,  6,  7,  8,  9, 10, 11, 12, 13, 14, 15, 16, 17,\n",
       "       18, 19, 20]),\n",
       "                         &#x27;min_samples_leaf&#x27;: [1, 2, 4, 6, 8],\n",
       "                         &#x27;min_samples_split&#x27;: [2, 5, 10]})</pre></div></div></div><div class=\"sk-parallel\"><div class=\"sk-parallel-item\"><div class=\"sk-item\"><div class=\"sk-label-container\"><div class=\"sk-label sk-toggleable\"><input class=\"sk-toggleable__control sk-hidden--visually\" id=\"sk-estimator-id-5\" type=\"checkbox\" ><label for=\"sk-estimator-id-5\" class=\"sk-toggleable__label sk-toggleable__label-arrow\">estimator: DecisionTreeClassifier</label><div class=\"sk-toggleable__content\"><pre>DecisionTreeClassifier()</pre></div></div></div><div class=\"sk-serial\"><div class=\"sk-item\"><div class=\"sk-estimator sk-toggleable\"><input class=\"sk-toggleable__control sk-hidden--visually\" id=\"sk-estimator-id-6\" type=\"checkbox\" ><label for=\"sk-estimator-id-6\" class=\"sk-toggleable__label sk-toggleable__label-arrow\">DecisionTreeClassifier</label><div class=\"sk-toggleable__content\"><pre>DecisionTreeClassifier()</pre></div></div></div></div></div></div></div></div></div></div>"
      ],
      "text/plain": [
       "GridSearchCV(cv=StratifiedKFold(n_splits=5, random_state=None, shuffle=False),\n",
       "             estimator=DecisionTreeClassifier(),\n",
       "             param_grid={'max_depth': array([ 1,  2,  3,  4,  5,  6,  7,  8,  9, 10, 11, 12, 13, 14, 15, 16, 17,\n",
       "       18, 19, 20]),\n",
       "                         'min_samples_leaf': [1, 2, 4, 6, 8],\n",
       "                         'min_samples_split': [2, 5, 10]})"
      ]
     },
     "execution_count": 175,
     "metadata": {},
     "output_type": "execute_result"
    }
   ],
   "source": [
    "grid_knn.fit(X_train, y_train)\n",
    "grid_dt.fit(X_train, y_train)"
   ]
  },
  {
   "cell_type": "code",
   "execution_count": 176,
   "metadata": {},
   "outputs": [
    {
     "name": "stdout",
     "output_type": "stream",
     "text": [
      "Meilleurs paramètres KNN: {'n_neighbors': 5, 'p': 1, 'weights': 'distance'}\n",
      "Meilleur score KNN: 0.8484716789801535\n",
      "Meilleurs paramètres DT: {'max_depth': 8, 'min_samples_leaf': 1, 'min_samples_split': 2}\n",
      "Meilleur score DT: 0.91313921483413\n"
     ]
    }
   ],
   "source": [
    "print(f\"Meilleurs paramètres KNN: {grid_knn.best_params_}\")\n",
    "print(f\"Meilleur score KNN: {grid_knn.best_score_}\")\n",
    "print(f\"Meilleurs paramètres DT: {grid_dt.best_params_}\")\n",
    "print(f\"Meilleur score DT: {grid_dt.best_score_}\")"
   ]
  },
  {
   "cell_type": "markdown",
   "metadata": {},
   "source": [
    "## Évaluation des Modèles"
   ]
  },
  {
   "cell_type": "code",
   "execution_count": 177,
   "metadata": {},
   "outputs": [
    {
     "name": "stdout",
     "output_type": "stream",
     "text": [
      "Score de précision KNN sur Test Set: 0.8367346938775511\n",
      "Score de précision DT sur Test Set: 0.9047619047619048\n"
     ]
    }
   ],
   "source": [
    "y_pred_knn = grid_knn.predict(X_test)\n",
    "y_pred_dt = grid_dt.predict(X_test)\n",
    "\n",
    "print(f\"Score de précision KNN sur Test Set: {accuracy_score(y_test, y_pred_knn)}\")\n",
    "print(f\"Score de précision DT sur Test Set: {accuracy_score(y_test, y_pred_dt)}\")"
   ]
  },
  {
   "cell_type": "code",
   "execution_count": 178,
   "metadata": {},
   "outputs": [
    {
     "name": "stdout",
     "output_type": "stream",
     "text": [
      "                precision    recall  f1-score   support\n",
      "\n",
      "Non Employable       0.89      0.95      0.92        83\n",
      "    Employable       0.93      0.84      0.89        64\n",
      "\n",
      "      accuracy                           0.90       147\n",
      "     macro avg       0.91      0.90      0.90       147\n",
      "  weighted avg       0.91      0.90      0.90       147\n",
      "\n"
     ]
    }
   ],
   "source": [
    "target_names = ['Non Employable', 'Employable']\n",
    "report = classification_report(y_test, y_pred_dt, target_names=target_names)\n",
    "print(report)"
   ]
  },
  {
   "cell_type": "code",
   "execution_count": 179,
   "metadata": {},
   "outputs": [
    {
     "data": {
      "image/png": "[encoded data removed]",
      "text/plain": [
       "<Figure size 800x600 with 2 Axes>"
      ]
     },
     "metadata": {},
     "output_type": "display_data"
    }
   ],
   "source": [
    "cm = confusion_matrix(y_test, y_pred_dt)\n",
    "cm_display_labels = ['non employable', 'employable']\n",
    "\n",
    "plt.figure(figsize=(8, 6))\n",
    "sns.heatmap(cm, annot=True, fmt='d', cmap='coolwarm', xticklabels=cm_display_labels, yticklabels=cm_display_labels)\n",
    "plt.ylabel('Vraies étiquettes')\n",
    "plt.xlabel('Prédictions')\n",
    "plt.title('Matrice de Confusion')\n",
    "plt.show()"
   ]
  },
  {
   "cell_type": "code",
   "execution_count": 180,
   "metadata": {},
   "outputs": [
    {
     "name": "stdout",
     "output_type": "stream",
     "text": [
      "These are the dataframe's columns ['Job Title', 'Company Name', 'Location', 'Skills', 'Years of Experience', 'Education', 'Job Type', 'Salary', 'Has_Bachelor', 'Has_Master', 'Has_Doctorate', 'Experience Level', 'Ideal_Level', 'Converted Salary', ' A/B Testing', ' AI', ' APIs', ' AWS', ' Accounting', ' Agile', ' Analysis Skills', ' Analytics', ' Azure', ' Banking', ' Big Data', ' Business Analysis', ' CI/CD', ' Cloud Computing', ' Computer Science', ' Computer Vision', ' Data Analysis', ' Data Analysis Skills', ' Data Analytics', ' Data Engineering', ' Data Mining', ' Data Structures', ' Data Visualization', ' Data Warehouse', ' Data lake', ' Deep Learning', ' Distributed Systems', ' Docker', ' Encryption', ' Excel', ' Feature Extraction', ' Financial Services', ' Forecasting', ' Git', ' Github', ' Go', ' Google Cloud', ' GraphQL', ' HBase', ' Hadoop', ' Hypothesis testing', ' JSON', ' Java', ' Jira', ' Julia', ' Kafka', ' Keras', ' Kubernetes', ' Leadership', ' Linux', ' MATLAB', ' MLOps', ' Machine Learning', ' Machine Learning Algorithms', ' Machine learning frameworks', ' Marketing', ' Matplotlib', ' Microsoft SQL Server', ' MongoDB', ' MySQL', ' Natural Language Processing', ' NoSQL', ' NumPy', ' Pandas', ' Perl', ' Pig', ' Power BI', ' Predictive Analysis', ' Presentation Skills', ' Product Management', ' Project Leadership', ' Project Management', ' PyTorch', ' Python', ' Quantitative analysis', ' R', ' REST', ' Redshift', ' Regression Analysis', ' Reinforcement Learning', ' Research', ' Risk Management', ' SAS', ' SPSS', ' SQL', ' Sales', ' Scala', ' SciPy', ' Scikit-learn', ' Scripting', ' Seaborn', ' Snowflake', ' Software development', ' Spark', ' Statistical Analysis', ' Statistical Software', ' Statistics', ' Tableau', ' Team Management', ' TensorFlow', ' Unix', ' XML', 'AI', 'AWS', 'Accounting', 'Agile', 'Analytics', 'Azure', 'Banking', 'Big Data', 'Computer Science', 'Computer Vision', 'Data Analysis', 'Data Analytics', 'Data Mining', 'Data Visualization', 'Deep Learning', 'Distributed Systems', 'Docker', 'Excel', 'Forecasting', 'Git', 'Github', 'Go', 'Google Cloud', 'Julia', 'Leadership', 'MATLAB', 'Machine Learning', 'Machine learning frameworks', 'Marketing', 'Matplotlib', 'Natural Language Processing', 'Power BI', 'Presentation Skills', 'Project Management', 'Python', 'R', 'Regression Analysis', 'Research', 'Risk Management', 'SQL', 'Sales', 'Scripting', 'Software development', 'Spark', 'Tableau', 'TensorFlow', 'XML', 'Skills Score', 'Education Score', 'Experience Score', 'Employability Score', 'Employability']\n"
     ]
    }
   ],
   "source": [
    "print(\"These are the dataframe's columns\",list(data.columns))"
   ]
  },
  {
   "cell_type": "code",
   "execution_count": 181,
   "metadata": {},
   "outputs": [
    {
     "name": "stdout",
     "output_type": "stream",
     "text": [
      "Number of rows with Employability = 0: 366\n",
      "Number of rows with Employability = 1: 368\n"
     ]
    }
   ],
   "source": [
    "# Count rows where Employability is equal to 0\n",
    "employability_0_count = data[data['Employability'] == 0].shape[0]\n",
    "\n",
    "# Count rows where Employability is equal to 1\n",
    "employability_1_count = data[data['Employability'] == 1].shape[0]\n",
    "\n",
    "print(\"Number of rows with Employability = 0:\", employability_0_count)\n",
    "print(\"Number of rows with Employability = 1:\", employability_1_count)\n"
   ]
  },
  {
   "cell_type": "code",
   "execution_count": null,
   "metadata": {},
   "outputs": [],
   "source": []
  },
  {
   "cell_type": "code",
   "execution_count": null,
   "metadata": {},
   "outputs": [],
   "source": []
  }
 ],
 "metadata": {
  "kernelspec": {
   "display_name": "Python 3",
   "language": "python",
   "name": "python3"
  },
  "language_info": {
   "codemirror_mode": {
    "name": "ipython",
    "version": 3
   },
   "file_extension": ".py",
   "mimetype": "text/x-python",
   "name": "python",
   "nbconvert_exporter": "python",
   "pygments_lexer": "ipython3",
   "version": "3.11.2"
  }
 },
 "nbformat": 4,
 "nbformat_minor": 2
}
